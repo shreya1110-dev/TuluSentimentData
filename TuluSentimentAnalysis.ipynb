{
  "cells": [
    {
      "cell_type": "markdown",
      "metadata": {
        "id": "view-in-github",
        "colab_type": "text"
      },
      "source": [
        "<a href=\"https://colab.research.google.com/github/shreya1110-dev/TuluSentimentData/blob/main/TuluSentimentAnalysis.ipynb\" target=\"_parent\"><img src=\"https://colab.research.google.com/assets/colab-badge.svg\" alt=\"Open In Colab\"/></a>"
      ]
    },
    {
      "cell_type": "code",
      "execution_count": 1,
      "metadata": {
        "colab": {
          "base_uri": "https://localhost:8080/"
        },
        "id": "6m0i5-LbYKJm",
        "outputId": "a666b588-6d39-4340-a788-71e01f5e5f94"
      },
      "outputs": [
        {
          "output_type": "stream",
          "name": "stdout",
          "text": [
            "Looking in indexes: https://pypi.org/simple, https://us-python.pkg.dev/colab-wheels/public/simple/\n",
            "Requirement already satisfied: fasttext in /usr/local/lib/python3.8/dist-packages (0.9.2)\n",
            "Requirement already satisfied: pybind11>=2.2 in /usr/local/lib/python3.8/dist-packages (from fasttext) (2.10.3)\n",
            "Requirement already satisfied: setuptools>=0.7.0 in /usr/local/lib/python3.8/dist-packages (from fasttext) (57.4.0)\n",
            "Requirement already satisfied: numpy in /usr/local/lib/python3.8/dist-packages (from fasttext) (1.21.6)\n"
          ]
        }
      ],
      "source": [
        "!pip install fasttext"
      ]
    },
    {
      "cell_type": "code",
      "execution_count": 2,
      "metadata": {
        "colab": {
          "base_uri": "https://localhost:8080/"
        },
        "id": "sySuBrOoiB_Y",
        "outputId": "15d67573-d406-4092-cefb-5664b35fa73f"
      },
      "outputs": [
        {
          "output_type": "stream",
          "name": "stdout",
          "text": [
            "--2023-01-23 13:27:24--  https://dl.fbaipublicfiles.com/fasttext/vectors-crawl/cc.en.300.bin.gz\n",
            "Resolving dl.fbaipublicfiles.com (dl.fbaipublicfiles.com)... 104.22.74.142, 104.22.75.142, 172.67.9.4, ...\n",
            "Connecting to dl.fbaipublicfiles.com (dl.fbaipublicfiles.com)|104.22.74.142|:443... connected.\n",
            "HTTP request sent, awaiting response... 200 OK\n",
            "Length: 4503593528 (4.2G) [application/octet-stream]\n",
            "Saving to: ‘cc.en.300.bin.gz.1’\n",
            "\n",
            "cc.en.300.bin.gz.1  100%[===================>]   4.19G  48.9MB/s    in 81s     \n",
            "\n",
            "2023-01-23 13:28:46 (53.2 MB/s) - ‘cc.en.300.bin.gz.1’ saved [4503593528/4503593528]\n",
            "\n"
          ]
        }
      ],
      "source": [
        "!wget \"https://dl.fbaipublicfiles.com/fasttext/vectors-crawl/cc.en.300.bin.gz\""
      ]
    },
    {
      "cell_type": "code",
      "execution_count": 3,
      "metadata": {
        "id": "eMQjIJIHYYw8"
      },
      "outputs": [],
      "source": [
        "# import modules\n",
        "\n",
        "import numpy as np \n",
        "import pandas as pd\n",
        "import nltk\n",
        "import re\n",
        "import matplotlib.pyplot as plt\n",
        "import string\n",
        "import warnings\n",
        "import fasttext\n",
        "import fasttext.util\n",
        "import gensim \n",
        "from nltk.tokenize import sent_tokenize, word_tokenize \n",
        "from numpy import array\n",
        "from numpy import asarray\n",
        "from numpy import zeros\n",
        "from gensim.models import Word2Vec \n",
        "from sklearn.ensemble import AdaBoostClassifier\n",
        "from sklearn.linear_model import LogisticRegression\n",
        "from sklearn.ensemble import VotingClassifier\n",
        "from sklearn.naive_bayes import GaussianNB\n",
        "from sklearn.model_selection import cross_val_score\n",
        "from sklearn.feature_extraction.text import TfidfVectorizer, CountVectorizer\n",
        "from sklearn.naive_bayes import MultinomialNB\n",
        "from sklearn.neural_network import MLPClassifier\n",
        "from sklearn.ensemble import RandomForestClassifier\n",
        "from sklearn.discriminant_analysis import LinearDiscriminantAnalysis\n",
        "from sklearn import metrics\n",
        "from sklearn.metrics import f1_score\n",
        "from sklearn.metrics import accuracy_score\n",
        "from nltk.stem import WordNetLemmatizer\n",
        "from sklearn.model_selection import cross_validate\n",
        "from tabulate import tabulate\n",
        "from sklearn.tree import DecisionTreeClassifier\n",
        "from sklearn.svm import SVC\n",
        "from sklearn.neighbors import KNeighborsClassifier\n",
        "from imblearn.over_sampling import SMOTE\n",
        "from sklearn.model_selection import train_test_split\n",
        "from sklearn.model_selection import cross_val_predict\n",
        "from sklearn.metrics import confusion_matrix, ConfusionMatrixDisplay"
      ]
    },
    {
      "cell_type": "code",
      "execution_count": 4,
      "metadata": {
        "colab": {
          "base_uri": "https://localhost:8080/"
        },
        "id": "OKd9TFGiiCCy",
        "outputId": "07642aa2-033b-45df-8c8e-8196e7ca3c6b"
      },
      "outputs": [
        {
          "output_type": "stream",
          "name": "stderr",
          "text": [
            "Warning : `load_model` does not return WordVectorModel or SupervisedModel any more, but a `FastText` object which is very similar.\n"
          ]
        }
      ],
      "source": [
        "fasttext.util.download_model('en', if_exists='ignore') # english\n",
        "T_ft = fasttext.load_model('cc.en.300.bin')"
      ]
    },
    {
      "cell_type": "code",
      "execution_count": 5,
      "metadata": {
        "colab": {
          "base_uri": "https://localhost:8080/"
        },
        "id": "vsZvMFCiYTwU",
        "outputId": "ab331971-5cdf-4452-b484-ca9d795320f2"
      },
      "outputs": [
        {
          "output_type": "stream",
          "name": "stdout",
          "text": [
            "Mounted at /content/drive\n"
          ]
        }
      ],
      "source": [
        "from google.colab import drive\n",
        "drive.mount('/content/drive')"
      ]
    },
    {
      "cell_type": "code",
      "execution_count": 6,
      "metadata": {
        "id": "jjM2ea0tYbzp"
      },
      "outputs": [],
      "source": [
        "# to ignore warnings\n",
        "warnings.filterwarnings('ignore')"
      ]
    },
    {
      "cell_type": "markdown",
      "metadata": {
        "id": "qhPz72ADY0nv"
      },
      "source": [
        "## DATASET AND PREPROCESSING"
      ]
    },
    {
      "cell_type": "code",
      "execution_count": 7,
      "metadata": {
        "colab": {
          "base_uri": "https://localhost:8080/",
          "height": 206
        },
        "id": "yTlOn1q1Yb2e",
        "outputId": "4b641f7c-8162-4a6b-a8ec-095c79c41d99"
      },
      "outputs": [
        {
          "output_type": "execute_result",
          "data": {
            "text/plain": [
              "   Unnamed: 0     Video ID                                            Comment  \\\n",
              "0         3.0  4ZSmyeRa34U  Excellent...vaa malla malla show la umdeta dum...   \n",
              "1         4.0  4ZSmyeRa34U             Valerie sir na voice keniji YouTube de   \n",
              "2        14.0  4ZSmyeRa34U                      Firstrde bloopers thojale plz   \n",
              "3        22.0  4ZSmyeRa34U  Congress  100 episode mantinek niklna mata epi...   \n",
              "4        28.0  4ZSmyeRa34U  Err 2 jana matra aath....full team malthini ep...   \n",
              "\n",
              "  Sentiment: Positive, neagtive, neutral Emotion: Happy,sad,angry, others  \n",
              "0                                      P                                H  \n",
              "1                                      N                        COMPLAINT  \n",
              "2                                     NU                                O  \n",
              "3                                      P                                H  \n",
              "4                                      N                                A  "
            ],
            "text/html": [
              "\n",
              "  <div id=\"df-c879539a-41a6-4e6e-aeb5-ebc644ab989e\">\n",
              "    <div class=\"colab-df-container\">\n",
              "      <div>\n",
              "<style scoped>\n",
              "    .dataframe tbody tr th:only-of-type {\n",
              "        vertical-align: middle;\n",
              "    }\n",
              "\n",
              "    .dataframe tbody tr th {\n",
              "        vertical-align: top;\n",
              "    }\n",
              "\n",
              "    .dataframe thead th {\n",
              "        text-align: right;\n",
              "    }\n",
              "</style>\n",
              "<table border=\"1\" class=\"dataframe\">\n",
              "  <thead>\n",
              "    <tr style=\"text-align: right;\">\n",
              "      <th></th>\n",
              "      <th>Unnamed: 0</th>\n",
              "      <th>Video ID</th>\n",
              "      <th>Comment</th>\n",
              "      <th>Sentiment: Positive, neagtive, neutral</th>\n",
              "      <th>Emotion: Happy,sad,angry, others</th>\n",
              "    </tr>\n",
              "  </thead>\n",
              "  <tbody>\n",
              "    <tr>\n",
              "      <th>0</th>\n",
              "      <td>3.0</td>\n",
              "      <td>4ZSmyeRa34U</td>\n",
              "      <td>Excellent...vaa malla malla show la umdeta dum...</td>\n",
              "      <td>P</td>\n",
              "      <td>H</td>\n",
              "    </tr>\n",
              "    <tr>\n",
              "      <th>1</th>\n",
              "      <td>4.0</td>\n",
              "      <td>4ZSmyeRa34U</td>\n",
              "      <td>Valerie sir na voice keniji YouTube de</td>\n",
              "      <td>N</td>\n",
              "      <td>COMPLAINT</td>\n",
              "    </tr>\n",
              "    <tr>\n",
              "      <th>2</th>\n",
              "      <td>14.0</td>\n",
              "      <td>4ZSmyeRa34U</td>\n",
              "      <td>Firstrde bloopers thojale plz</td>\n",
              "      <td>NU</td>\n",
              "      <td>O</td>\n",
              "    </tr>\n",
              "    <tr>\n",
              "      <th>3</th>\n",
              "      <td>22.0</td>\n",
              "      <td>4ZSmyeRa34U</td>\n",
              "      <td>Congress  100 episode mantinek niklna mata epi...</td>\n",
              "      <td>P</td>\n",
              "      <td>H</td>\n",
              "    </tr>\n",
              "    <tr>\n",
              "      <th>4</th>\n",
              "      <td>28.0</td>\n",
              "      <td>4ZSmyeRa34U</td>\n",
              "      <td>Err 2 jana matra aath....full team malthini ep...</td>\n",
              "      <td>N</td>\n",
              "      <td>A</td>\n",
              "    </tr>\n",
              "  </tbody>\n",
              "</table>\n",
              "</div>\n",
              "      <button class=\"colab-df-convert\" onclick=\"convertToInteractive('df-c879539a-41a6-4e6e-aeb5-ebc644ab989e')\"\n",
              "              title=\"Convert this dataframe to an interactive table.\"\n",
              "              style=\"display:none;\">\n",
              "        \n",
              "  <svg xmlns=\"http://www.w3.org/2000/svg\" height=\"24px\"viewBox=\"0 0 24 24\"\n",
              "       width=\"24px\">\n",
              "    <path d=\"M0 0h24v24H0V0z\" fill=\"none\"/>\n",
              "    <path d=\"M18.56 5.44l.94 2.06.94-2.06 2.06-.94-2.06-.94-.94-2.06-.94 2.06-2.06.94zm-11 1L8.5 8.5l.94-2.06 2.06-.94-2.06-.94L8.5 2.5l-.94 2.06-2.06.94zm10 10l.94 2.06.94-2.06 2.06-.94-2.06-.94-.94-2.06-.94 2.06-2.06.94z\"/><path d=\"M17.41 7.96l-1.37-1.37c-.4-.4-.92-.59-1.43-.59-.52 0-1.04.2-1.43.59L10.3 9.45l-7.72 7.72c-.78.78-.78 2.05 0 2.83L4 21.41c.39.39.9.59 1.41.59.51 0 1.02-.2 1.41-.59l7.78-7.78 2.81-2.81c.8-.78.8-2.07 0-2.86zM5.41 20L4 18.59l7.72-7.72 1.47 1.35L5.41 20z\"/>\n",
              "  </svg>\n",
              "      </button>\n",
              "      \n",
              "  <style>\n",
              "    .colab-df-container {\n",
              "      display:flex;\n",
              "      flex-wrap:wrap;\n",
              "      gap: 12px;\n",
              "    }\n",
              "\n",
              "    .colab-df-convert {\n",
              "      background-color: #E8F0FE;\n",
              "      border: none;\n",
              "      border-radius: 50%;\n",
              "      cursor: pointer;\n",
              "      display: none;\n",
              "      fill: #1967D2;\n",
              "      height: 32px;\n",
              "      padding: 0 0 0 0;\n",
              "      width: 32px;\n",
              "    }\n",
              "\n",
              "    .colab-df-convert:hover {\n",
              "      background-color: #E2EBFA;\n",
              "      box-shadow: 0px 1px 2px rgba(60, 64, 67, 0.3), 0px 1px 3px 1px rgba(60, 64, 67, 0.15);\n",
              "      fill: #174EA6;\n",
              "    }\n",
              "\n",
              "    [theme=dark] .colab-df-convert {\n",
              "      background-color: #3B4455;\n",
              "      fill: #D2E3FC;\n",
              "    }\n",
              "\n",
              "    [theme=dark] .colab-df-convert:hover {\n",
              "      background-color: #434B5C;\n",
              "      box-shadow: 0px 1px 3px 1px rgba(0, 0, 0, 0.15);\n",
              "      filter: drop-shadow(0px 1px 2px rgba(0, 0, 0, 0.3));\n",
              "      fill: #FFFFFF;\n",
              "    }\n",
              "  </style>\n",
              "\n",
              "      <script>\n",
              "        const buttonEl =\n",
              "          document.querySelector('#df-c879539a-41a6-4e6e-aeb5-ebc644ab989e button.colab-df-convert');\n",
              "        buttonEl.style.display =\n",
              "          google.colab.kernel.accessAllowed ? 'block' : 'none';\n",
              "\n",
              "        async function convertToInteractive(key) {\n",
              "          const element = document.querySelector('#df-c879539a-41a6-4e6e-aeb5-ebc644ab989e');\n",
              "          const dataTable =\n",
              "            await google.colab.kernel.invokeFunction('convertToInteractive',\n",
              "                                                     [key], {});\n",
              "          if (!dataTable) return;\n",
              "\n",
              "          const docLinkHtml = 'Like what you see? Visit the ' +\n",
              "            '<a target=\"_blank\" href=https://colab.research.google.com/notebooks/data_table.ipynb>data table notebook</a>'\n",
              "            + ' to learn more about interactive tables.';\n",
              "          element.innerHTML = '';\n",
              "          dataTable['output_type'] = 'display_data';\n",
              "          await google.colab.output.renderOutput(dataTable, element);\n",
              "          const docLink = document.createElement('div');\n",
              "          docLink.innerHTML = docLinkHtml;\n",
              "          element.appendChild(docLink);\n",
              "        }\n",
              "      </script>\n",
              "    </div>\n",
              "  </div>\n",
              "  "
            ]
          },
          "metadata": {},
          "execution_count": 7
        }
      ],
      "source": [
        "# reading the dataset\n",
        "refined_data = pd.read_excel(\"/content/drive/MyDrive/fire/tulu-text-refined.xlsx\")\n",
        "refined_data.head()"
      ]
    },
    {
      "cell_type": "code",
      "execution_count": 8,
      "metadata": {
        "colab": {
          "base_uri": "https://localhost:8080/"
        },
        "id": "8LbPulJ2Yb5G",
        "outputId": "a801912f-65e8-4abb-e34f-ca55dce0efe2"
      },
      "outputs": [
        {
          "output_type": "execute_result",
          "data": {
            "text/plain": [
              "(1699, 5)"
            ]
          },
          "metadata": {},
          "execution_count": 8
        }
      ],
      "source": [
        "refined_data.shape"
      ]
    },
    {
      "cell_type": "code",
      "execution_count": 9,
      "metadata": {
        "colab": {
          "base_uri": "https://localhost:8080/",
          "height": 423
        },
        "id": "nE19173KYb7t",
        "outputId": "d7f16792-396b-4c56-956b-5a1bfde8b317"
      },
      "outputs": [
        {
          "output_type": "execute_result",
          "data": {
            "text/plain": [
              "                                                Comment  \\\n",
              "0     Excellent...vaa malla malla show la umdeta dum...   \n",
              "1                Valerie sir na voice keniji YouTube de   \n",
              "2                         Firstrde bloopers thojale plz   \n",
              "3     Congress  100 episode mantinek niklna mata epi...   \n",
              "4     Err 2 jana matra aath....full team malthini ep...   \n",
              "...                                                 ...   \n",
              "1694  Congratulations both of u.. ❤️chende da uncle ...   \n",
              "1695                   Teacher na principal Yana athige   \n",
              "1696  Dala unda... song launch (programme) dha video...   \n",
              "1697                     Sachin anna ❤️\\nDala unda... 🍻   \n",
              "1698                                   hi bro dala unda   \n",
              "\n",
              "     Sentiment: Positive, neagtive, neutral  \n",
              "0                                         P  \n",
              "1                                         N  \n",
              "2                                        NU  \n",
              "3                                         P  \n",
              "4                                         N  \n",
              "...                                     ...  \n",
              "1694                                     NU  \n",
              "1695                                     NU  \n",
              "1696                                     NU  \n",
              "1697                                     NU  \n",
              "1698                                     NU  \n",
              "\n",
              "[1699 rows x 2 columns]"
            ],
            "text/html": [
              "\n",
              "  <div id=\"df-acecee26-e368-4cb6-8599-3eb3effc4cb9\">\n",
              "    <div class=\"colab-df-container\">\n",
              "      <div>\n",
              "<style scoped>\n",
              "    .dataframe tbody tr th:only-of-type {\n",
              "        vertical-align: middle;\n",
              "    }\n",
              "\n",
              "    .dataframe tbody tr th {\n",
              "        vertical-align: top;\n",
              "    }\n",
              "\n",
              "    .dataframe thead th {\n",
              "        text-align: right;\n",
              "    }\n",
              "</style>\n",
              "<table border=\"1\" class=\"dataframe\">\n",
              "  <thead>\n",
              "    <tr style=\"text-align: right;\">\n",
              "      <th></th>\n",
              "      <th>Comment</th>\n",
              "      <th>Sentiment: Positive, neagtive, neutral</th>\n",
              "    </tr>\n",
              "  </thead>\n",
              "  <tbody>\n",
              "    <tr>\n",
              "      <th>0</th>\n",
              "      <td>Excellent...vaa malla malla show la umdeta dum...</td>\n",
              "      <td>P</td>\n",
              "    </tr>\n",
              "    <tr>\n",
              "      <th>1</th>\n",
              "      <td>Valerie sir na voice keniji YouTube de</td>\n",
              "      <td>N</td>\n",
              "    </tr>\n",
              "    <tr>\n",
              "      <th>2</th>\n",
              "      <td>Firstrde bloopers thojale plz</td>\n",
              "      <td>NU</td>\n",
              "    </tr>\n",
              "    <tr>\n",
              "      <th>3</th>\n",
              "      <td>Congress  100 episode mantinek niklna mata epi...</td>\n",
              "      <td>P</td>\n",
              "    </tr>\n",
              "    <tr>\n",
              "      <th>4</th>\n",
              "      <td>Err 2 jana matra aath....full team malthini ep...</td>\n",
              "      <td>N</td>\n",
              "    </tr>\n",
              "    <tr>\n",
              "      <th>...</th>\n",
              "      <td>...</td>\n",
              "      <td>...</td>\n",
              "    </tr>\n",
              "    <tr>\n",
              "      <th>1694</th>\n",
              "      <td>Congratulations both of u.. ❤️chende da uncle ...</td>\n",
              "      <td>NU</td>\n",
              "    </tr>\n",
              "    <tr>\n",
              "      <th>1695</th>\n",
              "      <td>Teacher na principal Yana athige</td>\n",
              "      <td>NU</td>\n",
              "    </tr>\n",
              "    <tr>\n",
              "      <th>1696</th>\n",
              "      <td>Dala unda... song launch (programme) dha video...</td>\n",
              "      <td>NU</td>\n",
              "    </tr>\n",
              "    <tr>\n",
              "      <th>1697</th>\n",
              "      <td>Sachin anna ❤️\\nDala unda... 🍻</td>\n",
              "      <td>NU</td>\n",
              "    </tr>\n",
              "    <tr>\n",
              "      <th>1698</th>\n",
              "      <td>hi bro dala unda</td>\n",
              "      <td>NU</td>\n",
              "    </tr>\n",
              "  </tbody>\n",
              "</table>\n",
              "<p>1699 rows × 2 columns</p>\n",
              "</div>\n",
              "      <button class=\"colab-df-convert\" onclick=\"convertToInteractive('df-acecee26-e368-4cb6-8599-3eb3effc4cb9')\"\n",
              "              title=\"Convert this dataframe to an interactive table.\"\n",
              "              style=\"display:none;\">\n",
              "        \n",
              "  <svg xmlns=\"http://www.w3.org/2000/svg\" height=\"24px\"viewBox=\"0 0 24 24\"\n",
              "       width=\"24px\">\n",
              "    <path d=\"M0 0h24v24H0V0z\" fill=\"none\"/>\n",
              "    <path d=\"M18.56 5.44l.94 2.06.94-2.06 2.06-.94-2.06-.94-.94-2.06-.94 2.06-2.06.94zm-11 1L8.5 8.5l.94-2.06 2.06-.94-2.06-.94L8.5 2.5l-.94 2.06-2.06.94zm10 10l.94 2.06.94-2.06 2.06-.94-2.06-.94-.94-2.06-.94 2.06-2.06.94z\"/><path d=\"M17.41 7.96l-1.37-1.37c-.4-.4-.92-.59-1.43-.59-.52 0-1.04.2-1.43.59L10.3 9.45l-7.72 7.72c-.78.78-.78 2.05 0 2.83L4 21.41c.39.39.9.59 1.41.59.51 0 1.02-.2 1.41-.59l7.78-7.78 2.81-2.81c.8-.78.8-2.07 0-2.86zM5.41 20L4 18.59l7.72-7.72 1.47 1.35L5.41 20z\"/>\n",
              "  </svg>\n",
              "      </button>\n",
              "      \n",
              "  <style>\n",
              "    .colab-df-container {\n",
              "      display:flex;\n",
              "      flex-wrap:wrap;\n",
              "      gap: 12px;\n",
              "    }\n",
              "\n",
              "    .colab-df-convert {\n",
              "      background-color: #E8F0FE;\n",
              "      border: none;\n",
              "      border-radius: 50%;\n",
              "      cursor: pointer;\n",
              "      display: none;\n",
              "      fill: #1967D2;\n",
              "      height: 32px;\n",
              "      padding: 0 0 0 0;\n",
              "      width: 32px;\n",
              "    }\n",
              "\n",
              "    .colab-df-convert:hover {\n",
              "      background-color: #E2EBFA;\n",
              "      box-shadow: 0px 1px 2px rgba(60, 64, 67, 0.3), 0px 1px 3px 1px rgba(60, 64, 67, 0.15);\n",
              "      fill: #174EA6;\n",
              "    }\n",
              "\n",
              "    [theme=dark] .colab-df-convert {\n",
              "      background-color: #3B4455;\n",
              "      fill: #D2E3FC;\n",
              "    }\n",
              "\n",
              "    [theme=dark] .colab-df-convert:hover {\n",
              "      background-color: #434B5C;\n",
              "      box-shadow: 0px 1px 3px 1px rgba(0, 0, 0, 0.15);\n",
              "      filter: drop-shadow(0px 1px 2px rgba(0, 0, 0, 0.3));\n",
              "      fill: #FFFFFF;\n",
              "    }\n",
              "  </style>\n",
              "\n",
              "      <script>\n",
              "        const buttonEl =\n",
              "          document.querySelector('#df-acecee26-e368-4cb6-8599-3eb3effc4cb9 button.colab-df-convert');\n",
              "        buttonEl.style.display =\n",
              "          google.colab.kernel.accessAllowed ? 'block' : 'none';\n",
              "\n",
              "        async function convertToInteractive(key) {\n",
              "          const element = document.querySelector('#df-acecee26-e368-4cb6-8599-3eb3effc4cb9');\n",
              "          const dataTable =\n",
              "            await google.colab.kernel.invokeFunction('convertToInteractive',\n",
              "                                                     [key], {});\n",
              "          if (!dataTable) return;\n",
              "\n",
              "          const docLinkHtml = 'Like what you see? Visit the ' +\n",
              "            '<a target=\"_blank\" href=https://colab.research.google.com/notebooks/data_table.ipynb>data table notebook</a>'\n",
              "            + ' to learn more about interactive tables.';\n",
              "          element.innerHTML = '';\n",
              "          dataTable['output_type'] = 'display_data';\n",
              "          await google.colab.output.renderOutput(dataTable, element);\n",
              "          const docLink = document.createElement('div');\n",
              "          docLink.innerHTML = docLinkHtml;\n",
              "          element.appendChild(docLink);\n",
              "        }\n",
              "      </script>\n",
              "    </div>\n",
              "  </div>\n",
              "  "
            ]
          },
          "metadata": {},
          "execution_count": 9
        }
      ],
      "source": [
        "# filtering sentiment data \n",
        "sentiment_data = refined_data[[\"Comment\", \"Sentiment: Positive, neagtive, neutral\"]]\n",
        "sentiment_data"
      ]
    },
    {
      "cell_type": "code",
      "execution_count": 10,
      "metadata": {
        "colab": {
          "base_uri": "https://localhost:8080/",
          "height": 175
        },
        "id": "sL39XuHdYb-R",
        "outputId": "0bd15e38-fd62-4c42-93f6-5b5c17baa9e6"
      },
      "outputs": [
        {
          "output_type": "execute_result",
          "data": {
            "text/plain": [
              "                                        Comment\n",
              "Sentiment: Positive, neagtive, neutral         \n",
              "N                                           126\n",
              "NU                                          906\n",
              "P                                           667"
            ],
            "text/html": [
              "\n",
              "  <div id=\"df-a79faf91-d108-4379-9653-13462ba10a50\">\n",
              "    <div class=\"colab-df-container\">\n",
              "      <div>\n",
              "<style scoped>\n",
              "    .dataframe tbody tr th:only-of-type {\n",
              "        vertical-align: middle;\n",
              "    }\n",
              "\n",
              "    .dataframe tbody tr th {\n",
              "        vertical-align: top;\n",
              "    }\n",
              "\n",
              "    .dataframe thead th {\n",
              "        text-align: right;\n",
              "    }\n",
              "</style>\n",
              "<table border=\"1\" class=\"dataframe\">\n",
              "  <thead>\n",
              "    <tr style=\"text-align: right;\">\n",
              "      <th></th>\n",
              "      <th>Comment</th>\n",
              "    </tr>\n",
              "    <tr>\n",
              "      <th>Sentiment: Positive, neagtive, neutral</th>\n",
              "      <th></th>\n",
              "    </tr>\n",
              "  </thead>\n",
              "  <tbody>\n",
              "    <tr>\n",
              "      <th>N</th>\n",
              "      <td>126</td>\n",
              "    </tr>\n",
              "    <tr>\n",
              "      <th>NU</th>\n",
              "      <td>906</td>\n",
              "    </tr>\n",
              "    <tr>\n",
              "      <th>P</th>\n",
              "      <td>667</td>\n",
              "    </tr>\n",
              "  </tbody>\n",
              "</table>\n",
              "</div>\n",
              "      <button class=\"colab-df-convert\" onclick=\"convertToInteractive('df-a79faf91-d108-4379-9653-13462ba10a50')\"\n",
              "              title=\"Convert this dataframe to an interactive table.\"\n",
              "              style=\"display:none;\">\n",
              "        \n",
              "  <svg xmlns=\"http://www.w3.org/2000/svg\" height=\"24px\"viewBox=\"0 0 24 24\"\n",
              "       width=\"24px\">\n",
              "    <path d=\"M0 0h24v24H0V0z\" fill=\"none\"/>\n",
              "    <path d=\"M18.56 5.44l.94 2.06.94-2.06 2.06-.94-2.06-.94-.94-2.06-.94 2.06-2.06.94zm-11 1L8.5 8.5l.94-2.06 2.06-.94-2.06-.94L8.5 2.5l-.94 2.06-2.06.94zm10 10l.94 2.06.94-2.06 2.06-.94-2.06-.94-.94-2.06-.94 2.06-2.06.94z\"/><path d=\"M17.41 7.96l-1.37-1.37c-.4-.4-.92-.59-1.43-.59-.52 0-1.04.2-1.43.59L10.3 9.45l-7.72 7.72c-.78.78-.78 2.05 0 2.83L4 21.41c.39.39.9.59 1.41.59.51 0 1.02-.2 1.41-.59l7.78-7.78 2.81-2.81c.8-.78.8-2.07 0-2.86zM5.41 20L4 18.59l7.72-7.72 1.47 1.35L5.41 20z\"/>\n",
              "  </svg>\n",
              "      </button>\n",
              "      \n",
              "  <style>\n",
              "    .colab-df-container {\n",
              "      display:flex;\n",
              "      flex-wrap:wrap;\n",
              "      gap: 12px;\n",
              "    }\n",
              "\n",
              "    .colab-df-convert {\n",
              "      background-color: #E8F0FE;\n",
              "      border: none;\n",
              "      border-radius: 50%;\n",
              "      cursor: pointer;\n",
              "      display: none;\n",
              "      fill: #1967D2;\n",
              "      height: 32px;\n",
              "      padding: 0 0 0 0;\n",
              "      width: 32px;\n",
              "    }\n",
              "\n",
              "    .colab-df-convert:hover {\n",
              "      background-color: #E2EBFA;\n",
              "      box-shadow: 0px 1px 2px rgba(60, 64, 67, 0.3), 0px 1px 3px 1px rgba(60, 64, 67, 0.15);\n",
              "      fill: #174EA6;\n",
              "    }\n",
              "\n",
              "    [theme=dark] .colab-df-convert {\n",
              "      background-color: #3B4455;\n",
              "      fill: #D2E3FC;\n",
              "    }\n",
              "\n",
              "    [theme=dark] .colab-df-convert:hover {\n",
              "      background-color: #434B5C;\n",
              "      box-shadow: 0px 1px 3px 1px rgba(0, 0, 0, 0.15);\n",
              "      filter: drop-shadow(0px 1px 2px rgba(0, 0, 0, 0.3));\n",
              "      fill: #FFFFFF;\n",
              "    }\n",
              "  </style>\n",
              "\n",
              "      <script>\n",
              "        const buttonEl =\n",
              "          document.querySelector('#df-a79faf91-d108-4379-9653-13462ba10a50 button.colab-df-convert');\n",
              "        buttonEl.style.display =\n",
              "          google.colab.kernel.accessAllowed ? 'block' : 'none';\n",
              "\n",
              "        async function convertToInteractive(key) {\n",
              "          const element = document.querySelector('#df-a79faf91-d108-4379-9653-13462ba10a50');\n",
              "          const dataTable =\n",
              "            await google.colab.kernel.invokeFunction('convertToInteractive',\n",
              "                                                     [key], {});\n",
              "          if (!dataTable) return;\n",
              "\n",
              "          const docLinkHtml = 'Like what you see? Visit the ' +\n",
              "            '<a target=\"_blank\" href=https://colab.research.google.com/notebooks/data_table.ipynb>data table notebook</a>'\n",
              "            + ' to learn more about interactive tables.';\n",
              "          element.innerHTML = '';\n",
              "          dataTable['output_type'] = 'display_data';\n",
              "          await google.colab.output.renderOutput(dataTable, element);\n",
              "          const docLink = document.createElement('div');\n",
              "          docLink.innerHTML = docLinkHtml;\n",
              "          element.appendChild(docLink);\n",
              "        }\n",
              "      </script>\n",
              "    </div>\n",
              "  </div>\n",
              "  "
            ]
          },
          "metadata": {},
          "execution_count": 10
        }
      ],
      "source": [
        "# pre-processing the prediction labels\n",
        "sentiment_data['Sentiment: Positive, neagtive, neutral'] = sentiment_data['Sentiment: Positive, neagtive, neutral'].replace((\" NU\",\"NU \"),(\"NU\",\"NU\"))\n",
        "sentiment_data['Sentiment: Positive, neagtive, neutral'] = sentiment_data['Sentiment: Positive, neagtive, neutral'].replace((\" N\",\"N \"),(\"N\",\"N\"))\n",
        "sentiment_data['Sentiment: Positive, neagtive, neutral'] = sentiment_data['Sentiment: Positive, neagtive, neutral'].replace((\" P\",\"P \",\" p\",\"p \",\"p\"),(\"P\",\"P\",\"P\",\"P\",\"P\"))\n",
        "sentiment_data.groupby(by=['Sentiment: Positive, neagtive, neutral'], dropna=False).count()"
      ]
    },
    {
      "cell_type": "markdown",
      "metadata": {
        "id": "MTvhkZgiZw64"
      },
      "source": [
        "## SETTING UP NLP LIBRARIES"
      ]
    },
    {
      "cell_type": "code",
      "execution_count": 12,
      "metadata": {
        "colab": {
          "base_uri": "https://localhost:8080/"
        },
        "id": "xZKOyZg0YcBE",
        "outputId": "8be1ef88-3266-42b6-d4e1-3127d2a7f108"
      },
      "outputs": [
        {
          "output_type": "stream",
          "name": "stderr",
          "text": [
            "[nltk_data] Downloading package stopwords to /root/nltk_data...\n",
            "[nltk_data]   Package stopwords is already up-to-date!\n"
          ]
        },
        {
          "output_type": "execute_result",
          "data": {
            "text/plain": [
              "True"
            ]
          },
          "metadata": {},
          "execution_count": 12
        }
      ],
      "source": [
        "nltk.download('stopwords')"
      ]
    },
    {
      "cell_type": "code",
      "execution_count": 13,
      "metadata": {
        "colab": {
          "base_uri": "https://localhost:8080/"
        },
        "id": "zYTwflHnYcDS",
        "outputId": "e14ed751-dc08-4693-86ca-c5f50b921e95"
      },
      "outputs": [
        {
          "output_type": "stream",
          "name": "stdout",
          "text": [
            "179\n"
          ]
        }
      ],
      "source": [
        "stopwords = nltk.corpus.stopwords.words('english')\n",
        "print(len(stopwords))\n",
        "lemmatizer = WordNetLemmatizer()"
      ]
    },
    {
      "cell_type": "code",
      "execution_count": 14,
      "metadata": {
        "colab": {
          "base_uri": "https://localhost:8080/"
        },
        "id": "W39jmaI-YcF0",
        "outputId": "3135dedc-339c-4c30-cfdc-9cb9cbba0370"
      },
      "outputs": [
        {
          "output_type": "stream",
          "name": "stderr",
          "text": [
            "[nltk_data] Downloading package wordnet to /root/nltk_data...\n",
            "[nltk_data] Downloading package omw-1.4 to /root/nltk_data...\n",
            "[nltk_data] Downloading package punkt to /root/nltk_data...\n",
            "[nltk_data]   Unzipping tokenizers/punkt.zip.\n"
          ]
        },
        {
          "output_type": "execute_result",
          "data": {
            "text/plain": [
              "True"
            ]
          },
          "metadata": {},
          "execution_count": 14
        }
      ],
      "source": [
        "nltk.download('wordnet')\n",
        "nltk.download('omw-1.4')\n",
        "nltk.download('punkt')"
      ]
    },
    {
      "cell_type": "markdown",
      "metadata": {
        "id": "F31vtxSCbtPX"
      },
      "source": [
        "## PREPROCESSING THE DATA "
      ]
    },
    {
      "cell_type": "code",
      "execution_count": 15,
      "metadata": {
        "id": "tm6j64RnYcIp"
      },
      "outputs": [],
      "source": [
        "# identifying the text and label\n",
        "X = sentiment_data['Comment']\n",
        "Y = sentiment_data['Sentiment: Positive, neagtive, neutral']"
      ]
    },
    {
      "cell_type": "code",
      "execution_count": 16,
      "metadata": {
        "id": "r4LEyasdcsy8"
      },
      "outputs": [],
      "source": [
        "# filtering the data for spaces, special characters, stopwords etc\n",
        "X_final=[]\n",
        "for i in range(0, len(X)):\n",
        "    review = re.sub('[^a-zA-Z]', ' ', X.iloc[i])\n",
        "    review = review.lower()\n",
        "    review = review.split()\n",
        "    review = [lemmatizer.lemmatize(word) for word in review if not word in set(stopwords)]\n",
        "    review = ' '.join(review)\n",
        "    X_final.append(review)"
      ]
    },
    {
      "cell_type": "markdown",
      "metadata": {
        "id": "HuqvINpSfaOp"
      },
      "source": [
        "## VECTORIZERS\n",
        "\n"
      ]
    },
    {
      "cell_type": "code",
      "execution_count": 17,
      "metadata": {
        "id": "x1BBxk1Uf56a"
      },
      "outputs": [],
      "source": [
        "# tf-idf\n",
        "tf_idf = TfidfVectorizer()\n",
        "X_tf = tf_idf.fit_transform(X_final)"
      ]
    },
    {
      "cell_type": "code",
      "execution_count": 18,
      "metadata": {
        "id": "xAb0VbkDhipx"
      },
      "outputs": [],
      "source": [
        "# tf-idf n=bigram\n",
        "vectorizer = CountVectorizer(ngram_range = (2,2))\n",
        "Xtf_bigram = vectorizer.fit_transform(X_final) "
      ]
    },
    {
      "cell_type": "code",
      "execution_count": 19,
      "metadata": {
        "id": "5PZynQyngsMJ"
      },
      "outputs": [],
      "source": [
        "# tf-idf n=trigram\n",
        "vectorizer = CountVectorizer(ngram_range = (3,3))\n",
        "Xtf_trigram = vectorizer.fit_transform(X_final) "
      ]
    },
    {
      "cell_type": "code",
      "execution_count": 20,
      "metadata": {
        "id": "opv9luT8hyjN"
      },
      "outputs": [],
      "source": [
        "# fasttext\n",
        "X_fasttext = [T_ft.get_word_vector(words) for words in X_final] "
      ]
    },
    {
      "cell_type": "markdown",
      "metadata": {
        "id": "U3u4plDIhY-J"
      },
      "source": [
        "## APPLYING DATA AUGMENTATION"
      ]
    },
    {
      "cell_type": "code",
      "execution_count": 21,
      "metadata": {
        "id": "gDkclbSUgsPl"
      },
      "outputs": [],
      "source": [
        "sm = SMOTE(random_state=42)"
      ]
    },
    {
      "cell_type": "code",
      "execution_count": 22,
      "metadata": {
        "id": "jsu_tuT2f59z"
      },
      "outputs": [],
      "source": [
        "# data augmentation with all models\n",
        "X_tf_augmented, Y_augmented = sm.fit_resample(X_tf, Y)\n",
        "X_tf_bigram_augmented, Y_augmented = sm.fit_resample(Xtf_bigram, Y)\n",
        "X_tf_trigram_augmented, Y_augmented = sm.fit_resample(Xtf_trigram, Y)\n",
        "X_fasttext_augmented, Y_augmented = sm.fit_resample(X_fasttext, Y)"
      ]
    },
    {
      "cell_type": "markdown",
      "metadata": {
        "id": "29zFm_kldI_E"
      },
      "source": [
        "## EVALUATION FUNCTIONS FOR MODEL"
      ]
    },
    {
      "cell_type": "code",
      "execution_count": 23,
      "metadata": {
        "id": "H3xaWU1Ucs2V"
      },
      "outputs": [],
      "source": [
        "# to store f1 score and accuracy scores for all baseline models\n",
        "f1_df = pd.DataFrame()\n",
        "f1_df.insert(loc=0,\n",
        "          column='Model',\n",
        "          value=['KNN Classifier', 'SVC', 'Decision tree', 'Adaboost',\n",
        "                 'Logistic regression', 'MLP', 'Random forest', 'Ensembled Model'])\n",
        "\n",
        "acc_df = pd.DataFrame()\n",
        "acc_df.insert(loc=0,\n",
        "          column='Model',\n",
        "          value=['KNN Classifier', 'SVC', 'Decision tree', 'Adaboost',\n",
        "                 'Logistic regression', 'MLP', 'Random forest', 'Ensembled Model'])\n",
        "wrong_predictions = pd.DataFrame()"
      ]
    },
    {
      "cell_type": "code",
      "execution_count": 24,
      "metadata": {
        "id": "f0E1EfC1j_9h"
      },
      "outputs": [],
      "source": [
        "head = [\"Metric\", \"Value\"]\n",
        "f1_scores = []\n",
        "acc_scores = [] \n",
        "def evaluate_model(model, _X, _y, flag, _cv=5):\n",
        "      _scoring = ['precision_macro', 'recall_macro', 'balanced_accuracy', 'f1_weighted']\n",
        "      results = cross_validate(estimator=model,\n",
        "                               X=_X,\n",
        "                               y=_y,\n",
        "                               cv=_cv,\n",
        "                               scoring=_scoring,\n",
        "                               return_train_score=True)\n",
        "      f1_scores.append(results['test_f1_weighted'].mean()*100)\n",
        "      acc_scores.append(results['test_balanced_accuracy'].mean()*100)\n",
        "      print(\"F1 Score: \",results['train_f1_weighted'])\n",
        "      print(\"Balanced Accuracy\", results['train_balanced_accuracy'])\n",
        "      print(\"Recall: \",results['train_recall_macro'])\n",
        "      print(\"Precision\", results['train_precision_macro'])\n",
        "\n",
        "      # finding wrongly classified instances for best performing model (ie, TF-IDF Ensemble)\n",
        "      if(flag == 1):\n",
        "        y_pred = cross_val_predict(model, _X, _y, cv=10)\n",
        "        indices = [i for i in range(len(ind2)) if _y[i] != y_pred[i]]\n",
        "        wrong_predictions.insert(loc = 0,\n",
        "          column = 'Instances',\n",
        "          value = indices)\n",
        "\n",
        "      # confusion matrix calculation and display\n",
        "      y_pred = cross_val_predict(model, _X, _y, cv=10)\n",
        "      conf_mat = confusion_matrix(_y, y_pred)\n",
        "      disp = ConfusionMatrixDisplay(confusion_matrix=conf_mat,display_labels=['p','n','nu'])\n",
        "      disp.plot()\n",
        "      plt.show()"
      ]
    },
    {
      "cell_type": "code",
      "execution_count": 25,
      "metadata": {
        "id": "4UJUv3OWlBy1"
      },
      "outputs": [],
      "source": [
        "def baseline_models():\n",
        "  models = {}\n",
        "\n",
        "  # defining baseline models\n",
        "  knn_classifier = KNeighborsClassifier(3)\n",
        "  svc_classifier =  SVC(kernel=\"linear\", C=0.025)\n",
        "  decision_classifier = DecisionTreeClassifier(max_depth=5)\n",
        "  abc = AdaBoostClassifier(n_estimators=100, random_state=0)\n",
        "  logistic_regression = LogisticRegression(random_state=0)\n",
        "  mlp = MLPClassifier(random_state=1, max_iter=200)\n",
        "  random_forest = RandomForestClassifier(max_depth=2, random_state=0)\n",
        "\n",
        "  # ensemble model of 3 best performing models\n",
        "  ensembled_model = VotingClassifier([('abc', abc), ('lr', logistic_regression), ('mlp', mlp)], voting='soft')\n",
        "\n",
        "  models['KNN'] = knn_classifier\n",
        "  models['SVC'] = svc_classifier\n",
        "  models['DT'] = decision_classifier\n",
        "  models['ABC'] = abc\n",
        "  models['LR'] = logistic_regression\n",
        "  models['MLP'] = mlp\n",
        "  models['RF'] = random_forest\n",
        "  models['ENSEMBLE'] = ensembled_model\n",
        "  return models"
      ]
    },
    {
      "cell_type": "code",
      "execution_count": 26,
      "metadata": {
        "id": "XsKRMGG4j__5"
      },
      "outputs": [],
      "source": [
        "# evaluating a vectoriser model\n",
        "def evaluate_vectorizer(X, y, vectoriser, i, flag):\n",
        "  print('\\t\\t\\t\\t',vectoriser.upper())\n",
        "  models = baseline_models()\n",
        "  for (name,model) in baseline_models().items():\n",
        "    print('\\t\\t',name.upper())\n",
        "    evaluate_model(model, X, y, flag)\n",
        "  f1_df.insert(loc=i,\n",
        "          column=vectoriser,\n",
        "          value=f1_scores)\n",
        "  acc_df.insert(loc=i,\n",
        "          column=vectoriser,\n",
        "          value=acc_scores)"
      ]
    },
    {
      "cell_type": "markdown",
      "metadata": {
        "id": "s0C46ShN0YUZ"
      },
      "source": [
        "## EVALUATION AND RESULTS"
      ]
    },
    {
      "cell_type": "code",
      "execution_count": 38,
      "metadata": {
        "colab": {
          "base_uri": "https://localhost:8080/",
          "height": 1000
        },
        "id": "hMLNu_3R1sjb",
        "outputId": "10cf0e84-c682-4dcf-daad-e8bad575db31"
      },
      "outputs": [
        {
          "output_type": "stream",
          "name": "stdout",
          "text": [
            "\t\t\t\t TF-IDF\n",
            "\t\t KNN\n",
            "F1 Score:  [0.32219972 0.36556335 0.36779387 0.36507942 0.38157618]\n",
            "Balanced Accuracy [0.38085005 0.3931819  0.38643678 0.39278544 0.40722317]\n",
            "Recall:  [0.38085005 0.3931819  0.38643678 0.39278544 0.40722317]\n",
            "Precision [0.74632035 0.80096852 0.80838641 0.74560985 0.76612238]\n"
          ]
        },
        {
          "output_type": "display_data",
          "data": {
            "text/plain": [
              "<Figure size 432x288 with 2 Axes>"
            ],
            "image/png": "[encoded data removed]"
          },
          "metadata": {
            "needs_background": "light"
          }
        },
        {
          "output_type": "stream",
          "name": "stdout",
          "text": [
            "\t\t SVC\n",
            "F1 Score:  [0.37118365 0.37118365 0.37118365 0.37033811 0.37073283]\n",
            "Balanced Accuracy [0.33333333 0.33333333 0.33333333 0.33333333 0.33333333]\n",
            "Recall:  [0.33333333 0.33333333 0.33333333 0.33333333 0.33333333]\n",
            "Precision [0.17782683 0.17782683 0.17782683 0.17758156 0.17769608]\n"
          ]
        },
        {
          "output_type": "display_data",
          "data": {
            "text/plain": [
              "<Figure size 432x288 with 2 Axes>"
            ],
            "image/png": "[encoded data removed]"
          },
          "metadata": {
            "needs_background": "light"
          }
        },
        {
          "output_type": "stream",
          "name": "stdout",
          "text": [
            "\t\t DT\n",
            "F1 Score:  [0.62523177 0.64268117 0.66222027 0.62517775 0.64012053]\n",
            "Balanced Accuracy [0.4651312  0.47867759 0.4935404  0.46302943 0.47905191]\n",
            "Recall:  [0.4651312  0.47867759 0.4935404  0.46302943 0.47905191]\n",
            "Precision [0.85286973 0.84048464 0.73035089 0.84120551 0.84811904]\n"
          ]
        },
        {
          "output_type": "display_data",
          "data": {
            "text/plain": [
              "<Figure size 432x288 with 2 Axes>"
            ],
            "image/png": "[encoded data removed]"
          },
          "metadata": {
            "needs_background": "light"
          }
        },
        {
          "output_type": "stream",
          "name": "stdout",
          "text": [
            "\t\t ABC\n",
            "F1 Score:  [0.77717986 0.7827695  0.79868383 0.77669824 0.78177731]\n",
            "Balanced Accuracy [0.71449864 0.7236923  0.7545017  0.7324099  0.7436675 ]\n",
            "Recall:  [0.71449864 0.7236923  0.7545017  0.7324099  0.7436675 ]\n",
            "Precision [0.85044534 0.84924329 0.86142816 0.83917322 0.83460295]\n"
          ]
        },
        {
          "output_type": "display_data",
          "data": {
            "text/plain": [
              "<Figure size 432x288 with 2 Axes>"
            ],
            "image/png": "[encoded data removed]"
          },
          "metadata": {
            "needs_background": "light"
          }
        },
        {
          "output_type": "stream",
          "name": "stdout",
          "text": [
            "\t\t LR\n",
            "F1 Score:  [0.85514053 0.85251743 0.84309231 0.84329749 0.85082365]\n",
            "Balanced Accuracy [0.65411996 0.64880717 0.63328426 0.64008833 0.64855512]\n",
            "Recall:  [0.65411996 0.64880717 0.63328426 0.64008833 0.64855512]\n",
            "Precision [0.92891249 0.92597232 0.92515842 0.92327787 0.92683568]\n"
          ]
        },
        {
          "output_type": "display_data",
          "data": {
            "text/plain": [
              "<Figure size 432x288 with 2 Axes>"
            ],
            "image/png": "[encoded data removed]"
          },
          "metadata": {
            "needs_background": "light"
          }
        },
        {
          "output_type": "stream",
          "name": "stdout",
          "text": [
            "\t\t MLP\n",
            "F1 Score:  [0.97048436 0.97048197 0.96231138 0.96528959 0.96830154]\n",
            "Balanced Accuracy [0.96177529 0.95893473 0.95478368 0.95460501 0.95759524]\n",
            "Recall:  [0.96177529 0.95893473 0.95478368 0.95460501 0.95759524]\n",
            "Precision [0.98229533 0.98257081 0.97778657 0.97968007 0.98051412]\n"
          ]
        },
        {
          "output_type": "display_data",
          "data": {
            "text/plain": [
              "<Figure size 432x288 with 2 Axes>"
            ],
            "image/png": "[encoded data removed]"
          },
          "metadata": {
            "needs_background": "light"
          }
        },
        {
          "output_type": "stream",
          "name": "stdout",
          "text": [
            "\t\t RF\n",
            "F1 Score:  [0.37447255 0.38421329 0.38098731 0.38175524 0.37728405]\n",
            "Balanced Accuracy [0.33458412 0.33833646 0.33707865 0.33770287 0.33583021]\n",
            "Recall:  [0.33458412 0.33833646 0.33707865 0.33770287 0.33583021]\n",
            "Precision [0.51142225 0.51221318 0.51194876 0.51183432 0.51155359]\n"
          ]
        },
        {
          "output_type": "display_data",
          "data": {
            "text/plain": [
              "<Figure size 432x288 with 2 Axes>"
            ],
            "image/png": "[encoded data removed]"
          },
          "metadata": {
            "needs_background": "light"
          }
        },
        {
          "output_type": "stream",
          "name": "stdout",
          "text": [
            "\t\t ENSEMBLE\n",
            "F1 Score:  [0.96974084 0.97048197 0.96230103 0.96528959 0.96754292]\n",
            "Balanced Accuracy [0.95830934 0.95893473 0.95461923 0.95460501 0.95380156]\n",
            "Recall:  [0.95830934 0.95893473 0.95461923 0.95460501 0.95380156]\n",
            "Precision [0.9821584  0.98257081 0.97809278 0.97968007 0.98092761]\n"
          ]
        },
        {
          "output_type": "display_data",
          "data": {
            "text/plain": [
              "<Figure size 432x288 with 2 Axes>"
            ],
            "image/png": "[encoded data removed]"
          },
          "metadata": {
            "needs_background": "light"
          }
        },
        {
          "output_type": "error",
          "ename": "ValueError",
          "evalue": "ignored",
          "traceback": [
            "\u001b[0;31m---------------------------------------------------------------------------\u001b[0m",
            "\u001b[0;31mValueError\u001b[0m                                Traceback (most recent call last)",
            "\u001b[0;32m<ipython-input-38-356af20bfcb6>\u001b[0m in \u001b[0;36m<module>\u001b[0;34m\u001b[0m\n\u001b[1;32m     17\u001b[0m   \u001b[0mindices\u001b[0m \u001b[0;34m=\u001b[0m \u001b[0mnp\u001b[0m\u001b[0;34m.\u001b[0m\u001b[0marange\u001b[0m\u001b[0;34m(\u001b[0m\u001b[0mX_tf_augmented\u001b[0m\u001b[0;34m.\u001b[0m\u001b[0mshape\u001b[0m\u001b[0;34m[\u001b[0m\u001b[0;36m0\u001b[0m\u001b[0;34m]\u001b[0m\u001b[0;34m)\u001b[0m\u001b[0;34m\u001b[0m\u001b[0;34m\u001b[0m\u001b[0m\n\u001b[1;32m     18\u001b[0m   \u001b[0mX_train\u001b[0m\u001b[0;34m,\u001b[0m \u001b[0mX_test\u001b[0m\u001b[0;34m,\u001b[0m \u001b[0my_train\u001b[0m\u001b[0;34m,\u001b[0m \u001b[0my_test\u001b[0m\u001b[0;34m,\u001b[0m \u001b[0mind1\u001b[0m\u001b[0;34m,\u001b[0m \u001b[0mind2\u001b[0m \u001b[0;34m=\u001b[0m \u001b[0mtrain_test_split\u001b[0m\u001b[0;34m(\u001b[0m\u001b[0mX_tf_augmented\u001b[0m\u001b[0;34m,\u001b[0m \u001b[0mY_augmented\u001b[0m\u001b[0;34m,\u001b[0m \u001b[0mindices\u001b[0m\u001b[0;34m,\u001b[0m \u001b[0mtest_size\u001b[0m\u001b[0;34m=\u001b[0m\u001b[0;36m0.20\u001b[0m\u001b[0;34m,\u001b[0m \u001b[0mrandom_state\u001b[0m\u001b[0;34m=\u001b[0m\u001b[0;36m0\u001b[0m\u001b[0;34m)\u001b[0m\u001b[0;34m\u001b[0m\u001b[0;34m\u001b[0m\u001b[0m\n\u001b[0;32m---> 19\u001b[0;31m   \u001b[0mevaluate_vectorizer\u001b[0m\u001b[0;34m(\u001b[0m\u001b[0mdata\u001b[0m\u001b[0;34m[\u001b[0m\u001b[0;36m0\u001b[0m\u001b[0;34m]\u001b[0m\u001b[0;34m,\u001b[0m \u001b[0mdata\u001b[0m\u001b[0;34m[\u001b[0m\u001b[0;36m1\u001b[0m\u001b[0;34m]\u001b[0m\u001b[0;34m,\u001b[0m \u001b[0mmodel\u001b[0m\u001b[0;34m,\u001b[0m \u001b[0mi\u001b[0m\u001b[0;34m,\u001b[0m \u001b[0mflag\u001b[0m\u001b[0;34m)\u001b[0m\u001b[0;34m\u001b[0m\u001b[0;34m\u001b[0m\u001b[0m\n\u001b[0m\u001b[1;32m     20\u001b[0m   \u001b[0mi\u001b[0m\u001b[0;34m=\u001b[0m\u001b[0mi\u001b[0m\u001b[0;34m+\u001b[0m\u001b[0;36m1\u001b[0m\u001b[0;34m\u001b[0m\u001b[0;34m\u001b[0m\u001b[0m\n",
            "\u001b[0;32m<ipython-input-26-3c312c6c982e>\u001b[0m in \u001b[0;36mevaluate_vectorizer\u001b[0;34m(X, y, vectoriser, i, flag)\u001b[0m\n\u001b[1;32m      6\u001b[0m     \u001b[0mprint\u001b[0m\u001b[0;34m(\u001b[0m\u001b[0;34m'\\t\\t'\u001b[0m\u001b[0;34m,\u001b[0m\u001b[0mname\u001b[0m\u001b[0;34m.\u001b[0m\u001b[0mupper\u001b[0m\u001b[0;34m(\u001b[0m\u001b[0;34m)\u001b[0m\u001b[0;34m)\u001b[0m\u001b[0;34m\u001b[0m\u001b[0;34m\u001b[0m\u001b[0m\n\u001b[1;32m      7\u001b[0m     \u001b[0mevaluate_model\u001b[0m\u001b[0;34m(\u001b[0m\u001b[0mmodel\u001b[0m\u001b[0;34m,\u001b[0m \u001b[0mX\u001b[0m\u001b[0;34m,\u001b[0m \u001b[0my\u001b[0m\u001b[0;34m,\u001b[0m \u001b[0mflag\u001b[0m\u001b[0;34m)\u001b[0m\u001b[0;34m\u001b[0m\u001b[0;34m\u001b[0m\u001b[0m\n\u001b[0;32m----> 8\u001b[0;31m   f1_df.insert(loc=i,\n\u001b[0m\u001b[1;32m      9\u001b[0m           \u001b[0mcolumn\u001b[0m\u001b[0;34m=\u001b[0m\u001b[0mvectoriser\u001b[0m\u001b[0;34m,\u001b[0m\u001b[0;34m\u001b[0m\u001b[0;34m\u001b[0m\u001b[0m\n\u001b[1;32m     10\u001b[0m           value=f1_scores)\n",
            "\u001b[0;32m/usr/local/lib/python3.8/dist-packages/pandas/core/frame.py\u001b[0m in \u001b[0;36minsert\u001b[0;34m(self, loc, column, value, allow_duplicates)\u001b[0m\n\u001b[1;32m   4412\u001b[0m         \u001b[0;32mif\u001b[0m \u001b[0;32mnot\u001b[0m \u001b[0mallow_duplicates\u001b[0m \u001b[0;32mand\u001b[0m \u001b[0mcolumn\u001b[0m \u001b[0;32min\u001b[0m \u001b[0mself\u001b[0m\u001b[0;34m.\u001b[0m\u001b[0mcolumns\u001b[0m\u001b[0;34m:\u001b[0m\u001b[0;34m\u001b[0m\u001b[0;34m\u001b[0m\u001b[0m\n\u001b[1;32m   4413\u001b[0m             \u001b[0;31m# Should this be a different kind of error??\u001b[0m\u001b[0;34m\u001b[0m\u001b[0;34m\u001b[0m\u001b[0;34m\u001b[0m\u001b[0m\n\u001b[0;32m-> 4414\u001b[0;31m             \u001b[0;32mraise\u001b[0m \u001b[0mValueError\u001b[0m\u001b[0;34m(\u001b[0m\u001b[0;34mf\"cannot insert {column}, already exists\"\u001b[0m\u001b[0;34m)\u001b[0m\u001b[0;34m\u001b[0m\u001b[0;34m\u001b[0m\u001b[0m\n\u001b[0m\u001b[1;32m   4415\u001b[0m         \u001b[0;32mif\u001b[0m \u001b[0;32mnot\u001b[0m \u001b[0misinstance\u001b[0m\u001b[0;34m(\u001b[0m\u001b[0mloc\u001b[0m\u001b[0;34m,\u001b[0m \u001b[0mint\u001b[0m\u001b[0;34m)\u001b[0m\u001b[0;34m:\u001b[0m\u001b[0;34m\u001b[0m\u001b[0;34m\u001b[0m\u001b[0m\n\u001b[1;32m   4416\u001b[0m             \u001b[0;32mraise\u001b[0m \u001b[0mTypeError\u001b[0m\u001b[0;34m(\u001b[0m\u001b[0;34m\"loc must be int\"\u001b[0m\u001b[0;34m)\u001b[0m\u001b[0;34m\u001b[0m\u001b[0;34m\u001b[0m\u001b[0m\n",
            "\u001b[0;31mValueError\u001b[0m: cannot insert TF-IDF, already exists"
          ]
        }
      ],
      "source": [
        "data = {\n",
        "    \"TF-IDF\": (X_tf, Y), \n",
        "    \"Bigram\": (Xtf_bigram, Y), \n",
        "    \"Trigram\": (Xtf_trigram, Y), \n",
        "    \"Fasttext\": (X_fasttext, Y), \n",
        "    \"TF-IDF (augmented)\": (X_tf_augmented, Y_augmented), \n",
        "    \"Bigram (augmented)\": (X_tf_bigram_augmented, Y_augmented), \n",
        "    \"Trigram (augmented)\": (X_tf_trigram_augmented, Y_augmented), \n",
        "    \"Fasttext (augmented)\": (X_fasttext_augmented, Y_augmented) }\n",
        "i=1\n",
        "flag = 0\n",
        "for (model, data) in data.items():\n",
        "  f1_scores = []\n",
        "  acc_scores = []\n",
        "  if(model == 'TF-IDF (augmented)'):\n",
        "    flag = 1\n",
        "  indices = np.arange(X_tf_augmented.shape[0])\n",
        "  X_train, X_test, y_train, y_test, ind1, ind2 = train_test_split(X_tf_augmented, Y_augmented, indices, test_size=0.20, random_state=0)\n",
        "  evaluate_vectorizer(data[0], data[1], model, i, flag)\n",
        "  i=i+1"
      ]
    },
    {
      "cell_type": "code",
      "source": [
        "indices = np.arange(X_tf_augmented.shape[0])\n",
        "X_train, X_test, y_train, y_test, ind1, ind2 = train_test_split(X_tf_augmented, Y_augmented, indices, test_size=0.20, random_state=0)"
      ],
      "metadata": {
        "id": "mVkZynFe_EKo"
      },
      "execution_count": 37,
      "outputs": []
    },
    {
      "cell_type": "markdown",
      "metadata": {
        "id": "o6D6da2zqJcS"
      },
      "source": [
        "## ERROR ANALYSIS"
      ]
    },
    {
      "cell_type": "code",
      "execution_count": null,
      "metadata": {
        "id": "ayEhvefckADP"
      },
      "outputs": [],
      "source": [
        "# identifying wrongly classified instances\n",
        "wrong_predictions"
      ]
    },
    {
      "cell_type": "code",
      "execution_count": null,
      "metadata": {
        "id": "3tij1m65YcMP"
      },
      "outputs": [],
      "source": []
    }
  ],
  "metadata": {
    "colab": {
      "provenance": [],
      "authorship_tag": "ABX9TyP+BFXIrW9vZYH8RJ/0qdIx",
      "include_colab_link": true
    },
    "kernelspec": {
      "display_name": "Python 3",
      "name": "python3"
    },
    "language_info": {
      "name": "python"
    }
  },
  "nbformat": 4,
  "nbformat_minor": 0
}