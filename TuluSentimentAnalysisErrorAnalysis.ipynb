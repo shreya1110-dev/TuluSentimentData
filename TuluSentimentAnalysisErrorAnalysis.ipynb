{
  "cells": [
    {
      "cell_type": "markdown",
      "metadata": {
        "id": "view-in-github",
        "colab_type": "text"
      },
      "source": [
        "<a href=\"https://colab.research.google.com/github/shreya1110-dev/TuluSentimentData/blob/main/TuluSentimentAnalysisErrorAnalysis.ipynb\" target=\"_parent\"><img src=\"https://colab.research.google.com/assets/colab-badge.svg\" alt=\"Open In Colab\"/></a>"
      ]
    },
    {
      "cell_type": "code",
      "execution_count": 1,
      "metadata": {
        "colab": {
          "base_uri": "https://localhost:8080/"
        },
        "id": "6m0i5-LbYKJm",
        "outputId": "d745aa81-33a7-489d-9fc6-40e27fd05f0a"
      },
      "outputs": [
        {
          "output_type": "stream",
          "name": "stdout",
          "text": [
            "Looking in indexes: https://pypi.org/simple, https://us-python.pkg.dev/colab-wheels/public/simple/\n",
            "Collecting fasttext\n",
            "  Downloading fasttext-0.9.2.tar.gz (68 kB)\n",
            "\u001b[2K     \u001b[90m━━━━━━━━━━━━━━━━━━━━━━━━━━━━━━━━━━━━━━━━\u001b[0m \u001b[32m68.8/68.8 KB\u001b[0m \u001b[31m2.1 MB/s\u001b[0m eta \u001b[36m0:00:00\u001b[0m\n",
            "\u001b[?25h  Preparing metadata (setup.py) ... \u001b[?25l\u001b[?25hdone\n",
            "Collecting pybind11>=2.2\n",
            "  Using cached pybind11-2.10.3-py3-none-any.whl (222 kB)\n",
            "Requirement already satisfied: setuptools>=0.7.0 in /usr/local/lib/python3.8/dist-packages (from fasttext) (57.4.0)\n",
            "Requirement already satisfied: numpy in /usr/local/lib/python3.8/dist-packages (from fasttext) (1.21.6)\n",
            "Building wheels for collected packages: fasttext\n",
            "  Building wheel for fasttext (setup.py) ... \u001b[?25l\u001b[?25hdone\n",
            "  Created wheel for fasttext: filename=fasttext-0.9.2-cp38-cp38-linux_x86_64.whl size=4398039 sha256=08636acfbf85f2e994b091fe43b6524d71c4c690354bedd1366096b1f9716433\n",
            "  Stored in directory: /root/.cache/pip/wheels/93/61/2a/c54711a91c418ba06ba195b1d78ff24fcaad8592f2a694ac94\n",
            "Successfully built fasttext\n",
            "Installing collected packages: pybind11, fasttext\n",
            "Successfully installed fasttext-0.9.2 pybind11-2.10.3\n"
          ]
        }
      ],
      "source": [
        "!pip install fasttext"
      ]
    },
    {
      "cell_type": "code",
      "execution_count": 2,
      "metadata": {
        "colab": {
          "base_uri": "https://localhost:8080/"
        },
        "id": "sySuBrOoiB_Y",
        "outputId": "e589691b-cfd5-4736-c1a3-69c995af020f"
      },
      "outputs": [
        {
          "output_type": "stream",
          "name": "stdout",
          "text": [
            "--2023-01-24 03:46:02--  https://dl.fbaipublicfiles.com/fasttext/vectors-crawl/cc.en.300.bin.gz\n",
            "Resolving dl.fbaipublicfiles.com (dl.fbaipublicfiles.com)... 104.22.75.142, 104.22.74.142, 172.67.9.4, ...\n",
            "Connecting to dl.fbaipublicfiles.com (dl.fbaipublicfiles.com)|104.22.75.142|:443... connected.\n",
            "HTTP request sent, awaiting response... 200 OK\n",
            "Length: 4503593528 (4.2G) [application/octet-stream]\n",
            "Saving to: ‘cc.en.300.bin.gz’\n",
            "\n",
            "cc.en.300.bin.gz    100%[===================>]   4.19G  55.4MB/s    in 73s     \n",
            "\n",
            "2023-01-24 03:47:16 (58.7 MB/s) - ‘cc.en.300.bin.gz’ saved [4503593528/4503593528]\n",
            "\n"
          ]
        }
      ],
      "source": [
        "!wget \"https://dl.fbaipublicfiles.com/fasttext/vectors-crawl/cc.en.300.bin.gz\""
      ]
    },
    {
      "cell_type": "code",
      "execution_count": 3,
      "metadata": {
        "id": "eMQjIJIHYYw8"
      },
      "outputs": [],
      "source": [
        "# import modules\n",
        "\n",
        "import numpy as np \n",
        "import pandas as pd\n",
        "import nltk\n",
        "import re\n",
        "import matplotlib.pyplot as plt\n",
        "import string\n",
        "import warnings\n",
        "import fasttext\n",
        "import fasttext.util\n",
        "import gensim \n",
        "from nltk.tokenize import sent_tokenize, word_tokenize \n",
        "from numpy import array\n",
        "from numpy import asarray\n",
        "from numpy import zeros\n",
        "from gensim.models import Word2Vec \n",
        "from sklearn.ensemble import AdaBoostClassifier\n",
        "from sklearn.linear_model import LogisticRegression\n",
        "from sklearn.ensemble import VotingClassifier\n",
        "from sklearn.naive_bayes import GaussianNB\n",
        "from sklearn.model_selection import cross_val_score\n",
        "from sklearn.feature_extraction.text import TfidfVectorizer, CountVectorizer\n",
        "from sklearn.naive_bayes import MultinomialNB\n",
        "from sklearn.neural_network import MLPClassifier\n",
        "from sklearn.ensemble import RandomForestClassifier\n",
        "from sklearn.discriminant_analysis import LinearDiscriminantAnalysis\n",
        "from sklearn import metrics\n",
        "from sklearn.metrics import f1_score\n",
        "from sklearn.metrics import accuracy_score\n",
        "from nltk.stem import WordNetLemmatizer\n",
        "from sklearn.model_selection import cross_validate\n",
        "from tabulate import tabulate\n",
        "from sklearn.tree import DecisionTreeClassifier\n",
        "from sklearn.svm import SVC\n",
        "from sklearn.neighbors import KNeighborsClassifier\n",
        "from imblearn.over_sampling import SMOTE\n",
        "from sklearn.model_selection import train_test_split\n",
        "from sklearn.model_selection import cross_val_predict\n",
        "from sklearn.metrics import confusion_matrix, ConfusionMatrixDisplay"
      ]
    },
    {
      "cell_type": "code",
      "execution_count": null,
      "metadata": {
        "colab": {
          "base_uri": "https://localhost:8080/"
        },
        "id": "OKd9TFGiiCCy",
        "outputId": "07642aa2-033b-45df-8c8e-8196e7ca3c6b"
      },
      "outputs": [
        {
          "output_type": "stream",
          "name": "stderr",
          "text": [
            "Warning : `load_model` does not return WordVectorModel or SupervisedModel any more, but a `FastText` object which is very similar.\n"
          ]
        }
      ],
      "source": [
        "fasttext.util.download_model('en', if_exists='ignore') # english\n",
        "T_ft = fasttext.load_model('cc.en.300.bin')"
      ]
    },
    {
      "cell_type": "code",
      "execution_count": 5,
      "metadata": {
        "colab": {
          "base_uri": "https://localhost:8080/"
        },
        "id": "vsZvMFCiYTwU",
        "outputId": "86b87a3b-7614-44fd-ad30-9edd2bee3b3b"
      },
      "outputs": [
        {
          "output_type": "stream",
          "name": "stdout",
          "text": [
            "Mounted at /content/drive\n"
          ]
        }
      ],
      "source": [
        "from google.colab import drive\n",
        "drive.mount('/content/drive')"
      ]
    },
    {
      "cell_type": "code",
      "execution_count": 6,
      "metadata": {
        "id": "jjM2ea0tYbzp"
      },
      "outputs": [],
      "source": [
        "# to ignore warnings\n",
        "warnings.filterwarnings('ignore')"
      ]
    },
    {
      "cell_type": "markdown",
      "metadata": {
        "id": "qhPz72ADY0nv"
      },
      "source": [
        "## DATASET AND PREPROCESSING"
      ]
    },
    {
      "cell_type": "code",
      "execution_count": 7,
      "metadata": {
        "colab": {
          "base_uri": "https://localhost:8080/",
          "height": 206
        },
        "id": "yTlOn1q1Yb2e",
        "outputId": "c23b80a1-8088-421c-d6f5-cca4fdc2bf0f"
      },
      "outputs": [
        {
          "output_type": "execute_result",
          "data": {
            "text/plain": [
              "   Unnamed: 0     Video ID                                            Comment  \\\n",
              "0         3.0  4ZSmyeRa34U  Excellent...vaa malla malla show la umdeta dum...   \n",
              "1         4.0  4ZSmyeRa34U             Valerie sir na voice keniji YouTube de   \n",
              "2        14.0  4ZSmyeRa34U                      Firstrde bloopers thojale plz   \n",
              "3        22.0  4ZSmyeRa34U  Congress  100 episode mantinek niklna mata epi...   \n",
              "4        28.0  4ZSmyeRa34U  Err 2 jana matra aath....full team malthini ep...   \n",
              "\n",
              "  Sentiment: Positive, neagtive, neutral Emotion: Happy,sad,angry, others  \n",
              "0                                      P                                H  \n",
              "1                                      N                        COMPLAINT  \n",
              "2                                     NU                                O  \n",
              "3                                      P                                H  \n",
              "4                                      N                                A  "
            ],
            "text/html": [
              "\n",
              "  <div id=\"df-070a7aa4-5eb9-4cc0-a5f2-9a5e7d2830df\">\n",
              "    <div class=\"colab-df-container\">\n",
              "      <div>\n",
              "<style scoped>\n",
              "    .dataframe tbody tr th:only-of-type {\n",
              "        vertical-align: middle;\n",
              "    }\n",
              "\n",
              "    .dataframe tbody tr th {\n",
              "        vertical-align: top;\n",
              "    }\n",
              "\n",
              "    .dataframe thead th {\n",
              "        text-align: right;\n",
              "    }\n",
              "</style>\n",
              "<table border=\"1\" class=\"dataframe\">\n",
              "  <thead>\n",
              "    <tr style=\"text-align: right;\">\n",
              "      <th></th>\n",
              "      <th>Unnamed: 0</th>\n",
              "      <th>Video ID</th>\n",
              "      <th>Comment</th>\n",
              "      <th>Sentiment: Positive, neagtive, neutral</th>\n",
              "      <th>Emotion: Happy,sad,angry, others</th>\n",
              "    </tr>\n",
              "  </thead>\n",
              "  <tbody>\n",
              "    <tr>\n",
              "      <th>0</th>\n",
              "      <td>3.0</td>\n",
              "      <td>4ZSmyeRa34U</td>\n",
              "      <td>Excellent...vaa malla malla show la umdeta dum...</td>\n",
              "      <td>P</td>\n",
              "      <td>H</td>\n",
              "    </tr>\n",
              "    <tr>\n",
              "      <th>1</th>\n",
              "      <td>4.0</td>\n",
              "      <td>4ZSmyeRa34U</td>\n",
              "      <td>Valerie sir na voice keniji YouTube de</td>\n",
              "      <td>N</td>\n",
              "      <td>COMPLAINT</td>\n",
              "    </tr>\n",
              "    <tr>\n",
              "      <th>2</th>\n",
              "      <td>14.0</td>\n",
              "      <td>4ZSmyeRa34U</td>\n",
              "      <td>Firstrde bloopers thojale plz</td>\n",
              "      <td>NU</td>\n",
              "      <td>O</td>\n",
              "    </tr>\n",
              "    <tr>\n",
              "      <th>3</th>\n",
              "      <td>22.0</td>\n",
              "      <td>4ZSmyeRa34U</td>\n",
              "      <td>Congress  100 episode mantinek niklna mata epi...</td>\n",
              "      <td>P</td>\n",
              "      <td>H</td>\n",
              "    </tr>\n",
              "    <tr>\n",
              "      <th>4</th>\n",
              "      <td>28.0</td>\n",
              "      <td>4ZSmyeRa34U</td>\n",
              "      <td>Err 2 jana matra aath....full team malthini ep...</td>\n",
              "      <td>N</td>\n",
              "      <td>A</td>\n",
              "    </tr>\n",
              "  </tbody>\n",
              "</table>\n",
              "</div>\n",
              "      <button class=\"colab-df-convert\" onclick=\"convertToInteractive('df-070a7aa4-5eb9-4cc0-a5f2-9a5e7d2830df')\"\n",
              "              title=\"Convert this dataframe to an interactive table.\"\n",
              "              style=\"display:none;\">\n",
              "        \n",
              "  <svg xmlns=\"http://www.w3.org/2000/svg\" height=\"24px\"viewBox=\"0 0 24 24\"\n",
              "       width=\"24px\">\n",
              "    <path d=\"M0 0h24v24H0V0z\" fill=\"none\"/>\n",
              "    <path d=\"M18.56 5.44l.94 2.06.94-2.06 2.06-.94-2.06-.94-.94-2.06-.94 2.06-2.06.94zm-11 1L8.5 8.5l.94-2.06 2.06-.94-2.06-.94L8.5 2.5l-.94 2.06-2.06.94zm10 10l.94 2.06.94-2.06 2.06-.94-2.06-.94-.94-2.06-.94 2.06-2.06.94z\"/><path d=\"M17.41 7.96l-1.37-1.37c-.4-.4-.92-.59-1.43-.59-.52 0-1.04.2-1.43.59L10.3 9.45l-7.72 7.72c-.78.78-.78 2.05 0 2.83L4 21.41c.39.39.9.59 1.41.59.51 0 1.02-.2 1.41-.59l7.78-7.78 2.81-2.81c.8-.78.8-2.07 0-2.86zM5.41 20L4 18.59l7.72-7.72 1.47 1.35L5.41 20z\"/>\n",
              "  </svg>\n",
              "      </button>\n",
              "      \n",
              "  <style>\n",
              "    .colab-df-container {\n",
              "      display:flex;\n",
              "      flex-wrap:wrap;\n",
              "      gap: 12px;\n",
              "    }\n",
              "\n",
              "    .colab-df-convert {\n",
              "      background-color: #E8F0FE;\n",
              "      border: none;\n",
              "      border-radius: 50%;\n",
              "      cursor: pointer;\n",
              "      display: none;\n",
              "      fill: #1967D2;\n",
              "      height: 32px;\n",
              "      padding: 0 0 0 0;\n",
              "      width: 32px;\n",
              "    }\n",
              "\n",
              "    .colab-df-convert:hover {\n",
              "      background-color: #E2EBFA;\n",
              "      box-shadow: 0px 1px 2px rgba(60, 64, 67, 0.3), 0px 1px 3px 1px rgba(60, 64, 67, 0.15);\n",
              "      fill: #174EA6;\n",
              "    }\n",
              "\n",
              "    [theme=dark] .colab-df-convert {\n",
              "      background-color: #3B4455;\n",
              "      fill: #D2E3FC;\n",
              "    }\n",
              "\n",
              "    [theme=dark] .colab-df-convert:hover {\n",
              "      background-color: #434B5C;\n",
              "      box-shadow: 0px 1px 3px 1px rgba(0, 0, 0, 0.15);\n",
              "      filter: drop-shadow(0px 1px 2px rgba(0, 0, 0, 0.3));\n",
              "      fill: #FFFFFF;\n",
              "    }\n",
              "  </style>\n",
              "\n",
              "      <script>\n",
              "        const buttonEl =\n",
              "          document.querySelector('#df-070a7aa4-5eb9-4cc0-a5f2-9a5e7d2830df button.colab-df-convert');\n",
              "        buttonEl.style.display =\n",
              "          google.colab.kernel.accessAllowed ? 'block' : 'none';\n",
              "\n",
              "        async function convertToInteractive(key) {\n",
              "          const element = document.querySelector('#df-070a7aa4-5eb9-4cc0-a5f2-9a5e7d2830df');\n",
              "          const dataTable =\n",
              "            await google.colab.kernel.invokeFunction('convertToInteractive',\n",
              "                                                     [key], {});\n",
              "          if (!dataTable) return;\n",
              "\n",
              "          const docLinkHtml = 'Like what you see? Visit the ' +\n",
              "            '<a target=\"_blank\" href=https://colab.research.google.com/notebooks/data_table.ipynb>data table notebook</a>'\n",
              "            + ' to learn more about interactive tables.';\n",
              "          element.innerHTML = '';\n",
              "          dataTable['output_type'] = 'display_data';\n",
              "          await google.colab.output.renderOutput(dataTable, element);\n",
              "          const docLink = document.createElement('div');\n",
              "          docLink.innerHTML = docLinkHtml;\n",
              "          element.appendChild(docLink);\n",
              "        }\n",
              "      </script>\n",
              "    </div>\n",
              "  </div>\n",
              "  "
            ]
          },
          "metadata": {},
          "execution_count": 7
        }
      ],
      "source": [
        "# reading the dataset\n",
        "refined_data = pd.read_excel(\"/content/drive/MyDrive/fire/tulu-text-refined.xlsx\")\n",
        "refined_data.head()"
      ]
    },
    {
      "cell_type": "code",
      "execution_count": 8,
      "metadata": {
        "colab": {
          "base_uri": "https://localhost:8080/"
        },
        "id": "8LbPulJ2Yb5G",
        "outputId": "3d32c94d-0287-4e56-ae27-8890d66ae820"
      },
      "outputs": [
        {
          "output_type": "execute_result",
          "data": {
            "text/plain": [
              "(1699, 5)"
            ]
          },
          "metadata": {},
          "execution_count": 8
        }
      ],
      "source": [
        "refined_data.shape"
      ]
    },
    {
      "cell_type": "code",
      "execution_count": 9,
      "metadata": {
        "colab": {
          "base_uri": "https://localhost:8080/",
          "height": 423
        },
        "id": "nE19173KYb7t",
        "outputId": "ecc1daf1-3b5c-49d5-8329-66eb5d939d66"
      },
      "outputs": [
        {
          "output_type": "execute_result",
          "data": {
            "text/plain": [
              "                                                Comment  \\\n",
              "0     Excellent...vaa malla malla show la umdeta dum...   \n",
              "1                Valerie sir na voice keniji YouTube de   \n",
              "2                         Firstrde bloopers thojale plz   \n",
              "3     Congress  100 episode mantinek niklna mata epi...   \n",
              "4     Err 2 jana matra aath....full team malthini ep...   \n",
              "...                                                 ...   \n",
              "1694  Congratulations both of u.. ❤️chende da uncle ...   \n",
              "1695                   Teacher na principal Yana athige   \n",
              "1696  Dala unda... song launch (programme) dha video...   \n",
              "1697                     Sachin anna ❤️\\nDala unda... 🍻   \n",
              "1698                                   hi bro dala unda   \n",
              "\n",
              "     Sentiment: Positive, neagtive, neutral  \n",
              "0                                         P  \n",
              "1                                         N  \n",
              "2                                        NU  \n",
              "3                                         P  \n",
              "4                                         N  \n",
              "...                                     ...  \n",
              "1694                                     NU  \n",
              "1695                                     NU  \n",
              "1696                                     NU  \n",
              "1697                                     NU  \n",
              "1698                                     NU  \n",
              "\n",
              "[1699 rows x 2 columns]"
            ],
            "text/html": [
              "\n",
              "  <div id=\"df-e1f11c8a-7d70-4c08-889e-fad54a0fbe8d\">\n",
              "    <div class=\"colab-df-container\">\n",
              "      <div>\n",
              "<style scoped>\n",
              "    .dataframe tbody tr th:only-of-type {\n",
              "        vertical-align: middle;\n",
              "    }\n",
              "\n",
              "    .dataframe tbody tr th {\n",
              "        vertical-align: top;\n",
              "    }\n",
              "\n",
              "    .dataframe thead th {\n",
              "        text-align: right;\n",
              "    }\n",
              "</style>\n",
              "<table border=\"1\" class=\"dataframe\">\n",
              "  <thead>\n",
              "    <tr style=\"text-align: right;\">\n",
              "      <th></th>\n",
              "      <th>Comment</th>\n",
              "      <th>Sentiment: Positive, neagtive, neutral</th>\n",
              "    </tr>\n",
              "  </thead>\n",
              "  <tbody>\n",
              "    <tr>\n",
              "      <th>0</th>\n",
              "      <td>Excellent...vaa malla malla show la umdeta dum...</td>\n",
              "      <td>P</td>\n",
              "    </tr>\n",
              "    <tr>\n",
              "      <th>1</th>\n",
              "      <td>Valerie sir na voice keniji YouTube de</td>\n",
              "      <td>N</td>\n",
              "    </tr>\n",
              "    <tr>\n",
              "      <th>2</th>\n",
              "      <td>Firstrde bloopers thojale plz</td>\n",
              "      <td>NU</td>\n",
              "    </tr>\n",
              "    <tr>\n",
              "      <th>3</th>\n",
              "      <td>Congress  100 episode mantinek niklna mata epi...</td>\n",
              "      <td>P</td>\n",
              "    </tr>\n",
              "    <tr>\n",
              "      <th>4</th>\n",
              "      <td>Err 2 jana matra aath....full team malthini ep...</td>\n",
              "      <td>N</td>\n",
              "    </tr>\n",
              "    <tr>\n",
              "      <th>...</th>\n",
              "      <td>...</td>\n",
              "      <td>...</td>\n",
              "    </tr>\n",
              "    <tr>\n",
              "      <th>1694</th>\n",
              "      <td>Congratulations both of u.. ❤️chende da uncle ...</td>\n",
              "      <td>NU</td>\n",
              "    </tr>\n",
              "    <tr>\n",
              "      <th>1695</th>\n",
              "      <td>Teacher na principal Yana athige</td>\n",
              "      <td>NU</td>\n",
              "    </tr>\n",
              "    <tr>\n",
              "      <th>1696</th>\n",
              "      <td>Dala unda... song launch (programme) dha video...</td>\n",
              "      <td>NU</td>\n",
              "    </tr>\n",
              "    <tr>\n",
              "      <th>1697</th>\n",
              "      <td>Sachin anna ❤️\\nDala unda... 🍻</td>\n",
              "      <td>NU</td>\n",
              "    </tr>\n",
              "    <tr>\n",
              "      <th>1698</th>\n",
              "      <td>hi bro dala unda</td>\n",
              "      <td>NU</td>\n",
              "    </tr>\n",
              "  </tbody>\n",
              "</table>\n",
              "<p>1699 rows × 2 columns</p>\n",
              "</div>\n",
              "      <button class=\"colab-df-convert\" onclick=\"convertToInteractive('df-e1f11c8a-7d70-4c08-889e-fad54a0fbe8d')\"\n",
              "              title=\"Convert this dataframe to an interactive table.\"\n",
              "              style=\"display:none;\">\n",
              "        \n",
              "  <svg xmlns=\"http://www.w3.org/2000/svg\" height=\"24px\"viewBox=\"0 0 24 24\"\n",
              "       width=\"24px\">\n",
              "    <path d=\"M0 0h24v24H0V0z\" fill=\"none\"/>\n",
              "    <path d=\"M18.56 5.44l.94 2.06.94-2.06 2.06-.94-2.06-.94-.94-2.06-.94 2.06-2.06.94zm-11 1L8.5 8.5l.94-2.06 2.06-.94-2.06-.94L8.5 2.5l-.94 2.06-2.06.94zm10 10l.94 2.06.94-2.06 2.06-.94-2.06-.94-.94-2.06-.94 2.06-2.06.94z\"/><path d=\"M17.41 7.96l-1.37-1.37c-.4-.4-.92-.59-1.43-.59-.52 0-1.04.2-1.43.59L10.3 9.45l-7.72 7.72c-.78.78-.78 2.05 0 2.83L4 21.41c.39.39.9.59 1.41.59.51 0 1.02-.2 1.41-.59l7.78-7.78 2.81-2.81c.8-.78.8-2.07 0-2.86zM5.41 20L4 18.59l7.72-7.72 1.47 1.35L5.41 20z\"/>\n",
              "  </svg>\n",
              "      </button>\n",
              "      \n",
              "  <style>\n",
              "    .colab-df-container {\n",
              "      display:flex;\n",
              "      flex-wrap:wrap;\n",
              "      gap: 12px;\n",
              "    }\n",
              "\n",
              "    .colab-df-convert {\n",
              "      background-color: #E8F0FE;\n",
              "      border: none;\n",
              "      border-radius: 50%;\n",
              "      cursor: pointer;\n",
              "      display: none;\n",
              "      fill: #1967D2;\n",
              "      height: 32px;\n",
              "      padding: 0 0 0 0;\n",
              "      width: 32px;\n",
              "    }\n",
              "\n",
              "    .colab-df-convert:hover {\n",
              "      background-color: #E2EBFA;\n",
              "      box-shadow: 0px 1px 2px rgba(60, 64, 67, 0.3), 0px 1px 3px 1px rgba(60, 64, 67, 0.15);\n",
              "      fill: #174EA6;\n",
              "    }\n",
              "\n",
              "    [theme=dark] .colab-df-convert {\n",
              "      background-color: #3B4455;\n",
              "      fill: #D2E3FC;\n",
              "    }\n",
              "\n",
              "    [theme=dark] .colab-df-convert:hover {\n",
              "      background-color: #434B5C;\n",
              "      box-shadow: 0px 1px 3px 1px rgba(0, 0, 0, 0.15);\n",
              "      filter: drop-shadow(0px 1px 2px rgba(0, 0, 0, 0.3));\n",
              "      fill: #FFFFFF;\n",
              "    }\n",
              "  </style>\n",
              "\n",
              "      <script>\n",
              "        const buttonEl =\n",
              "          document.querySelector('#df-e1f11c8a-7d70-4c08-889e-fad54a0fbe8d button.colab-df-convert');\n",
              "        buttonEl.style.display =\n",
              "          google.colab.kernel.accessAllowed ? 'block' : 'none';\n",
              "\n",
              "        async function convertToInteractive(key) {\n",
              "          const element = document.querySelector('#df-e1f11c8a-7d70-4c08-889e-fad54a0fbe8d');\n",
              "          const dataTable =\n",
              "            await google.colab.kernel.invokeFunction('convertToInteractive',\n",
              "                                                     [key], {});\n",
              "          if (!dataTable) return;\n",
              "\n",
              "          const docLinkHtml = 'Like what you see? Visit the ' +\n",
              "            '<a target=\"_blank\" href=https://colab.research.google.com/notebooks/data_table.ipynb>data table notebook</a>'\n",
              "            + ' to learn more about interactive tables.';\n",
              "          element.innerHTML = '';\n",
              "          dataTable['output_type'] = 'display_data';\n",
              "          await google.colab.output.renderOutput(dataTable, element);\n",
              "          const docLink = document.createElement('div');\n",
              "          docLink.innerHTML = docLinkHtml;\n",
              "          element.appendChild(docLink);\n",
              "        }\n",
              "      </script>\n",
              "    </div>\n",
              "  </div>\n",
              "  "
            ]
          },
          "metadata": {},
          "execution_count": 9
        }
      ],
      "source": [
        "# filtering sentiment data \n",
        "sentiment_data = refined_data[[\"Comment\", \"Sentiment: Positive, neagtive, neutral\"]]\n",
        "sentiment_data"
      ]
    },
    {
      "cell_type": "code",
      "execution_count": 10,
      "metadata": {
        "colab": {
          "base_uri": "https://localhost:8080/",
          "height": 175
        },
        "id": "sL39XuHdYb-R",
        "outputId": "85914648-5a6f-4823-8bce-e84b150e018e"
      },
      "outputs": [
        {
          "output_type": "execute_result",
          "data": {
            "text/plain": [
              "                                        Comment\n",
              "Sentiment: Positive, neagtive, neutral         \n",
              "N                                           126\n",
              "NU                                          906\n",
              "P                                           667"
            ],
            "text/html": [
              "\n",
              "  <div id=\"df-43ca6943-2c6f-4d61-82ba-bf1c97934263\">\n",
              "    <div class=\"colab-df-container\">\n",
              "      <div>\n",
              "<style scoped>\n",
              "    .dataframe tbody tr th:only-of-type {\n",
              "        vertical-align: middle;\n",
              "    }\n",
              "\n",
              "    .dataframe tbody tr th {\n",
              "        vertical-align: top;\n",
              "    }\n",
              "\n",
              "    .dataframe thead th {\n",
              "        text-align: right;\n",
              "    }\n",
              "</style>\n",
              "<table border=\"1\" class=\"dataframe\">\n",
              "  <thead>\n",
              "    <tr style=\"text-align: right;\">\n",
              "      <th></th>\n",
              "      <th>Comment</th>\n",
              "    </tr>\n",
              "    <tr>\n",
              "      <th>Sentiment: Positive, neagtive, neutral</th>\n",
              "      <th></th>\n",
              "    </tr>\n",
              "  </thead>\n",
              "  <tbody>\n",
              "    <tr>\n",
              "      <th>N</th>\n",
              "      <td>126</td>\n",
              "    </tr>\n",
              "    <tr>\n",
              "      <th>NU</th>\n",
              "      <td>906</td>\n",
              "    </tr>\n",
              "    <tr>\n",
              "      <th>P</th>\n",
              "      <td>667</td>\n",
              "    </tr>\n",
              "  </tbody>\n",
              "</table>\n",
              "</div>\n",
              "      <button class=\"colab-df-convert\" onclick=\"convertToInteractive('df-43ca6943-2c6f-4d61-82ba-bf1c97934263')\"\n",
              "              title=\"Convert this dataframe to an interactive table.\"\n",
              "              style=\"display:none;\">\n",
              "        \n",
              "  <svg xmlns=\"http://www.w3.org/2000/svg\" height=\"24px\"viewBox=\"0 0 24 24\"\n",
              "       width=\"24px\">\n",
              "    <path d=\"M0 0h24v24H0V0z\" fill=\"none\"/>\n",
              "    <path d=\"M18.56 5.44l.94 2.06.94-2.06 2.06-.94-2.06-.94-.94-2.06-.94 2.06-2.06.94zm-11 1L8.5 8.5l.94-2.06 2.06-.94-2.06-.94L8.5 2.5l-.94 2.06-2.06.94zm10 10l.94 2.06.94-2.06 2.06-.94-2.06-.94-.94-2.06-.94 2.06-2.06.94z\"/><path d=\"M17.41 7.96l-1.37-1.37c-.4-.4-.92-.59-1.43-.59-.52 0-1.04.2-1.43.59L10.3 9.45l-7.72 7.72c-.78.78-.78 2.05 0 2.83L4 21.41c.39.39.9.59 1.41.59.51 0 1.02-.2 1.41-.59l7.78-7.78 2.81-2.81c.8-.78.8-2.07 0-2.86zM5.41 20L4 18.59l7.72-7.72 1.47 1.35L5.41 20z\"/>\n",
              "  </svg>\n",
              "      </button>\n",
              "      \n",
              "  <style>\n",
              "    .colab-df-container {\n",
              "      display:flex;\n",
              "      flex-wrap:wrap;\n",
              "      gap: 12px;\n",
              "    }\n",
              "\n",
              "    .colab-df-convert {\n",
              "      background-color: #E8F0FE;\n",
              "      border: none;\n",
              "      border-radius: 50%;\n",
              "      cursor: pointer;\n",
              "      display: none;\n",
              "      fill: #1967D2;\n",
              "      height: 32px;\n",
              "      padding: 0 0 0 0;\n",
              "      width: 32px;\n",
              "    }\n",
              "\n",
              "    .colab-df-convert:hover {\n",
              "      background-color: #E2EBFA;\n",
              "      box-shadow: 0px 1px 2px rgba(60, 64, 67, 0.3), 0px 1px 3px 1px rgba(60, 64, 67, 0.15);\n",
              "      fill: #174EA6;\n",
              "    }\n",
              "\n",
              "    [theme=dark] .colab-df-convert {\n",
              "      background-color: #3B4455;\n",
              "      fill: #D2E3FC;\n",
              "    }\n",
              "\n",
              "    [theme=dark] .colab-df-convert:hover {\n",
              "      background-color: #434B5C;\n",
              "      box-shadow: 0px 1px 3px 1px rgba(0, 0, 0, 0.15);\n",
              "      filter: drop-shadow(0px 1px 2px rgba(0, 0, 0, 0.3));\n",
              "      fill: #FFFFFF;\n",
              "    }\n",
              "  </style>\n",
              "\n",
              "      <script>\n",
              "        const buttonEl =\n",
              "          document.querySelector('#df-43ca6943-2c6f-4d61-82ba-bf1c97934263 button.colab-df-convert');\n",
              "        buttonEl.style.display =\n",
              "          google.colab.kernel.accessAllowed ? 'block' : 'none';\n",
              "\n",
              "        async function convertToInteractive(key) {\n",
              "          const element = document.querySelector('#df-43ca6943-2c6f-4d61-82ba-bf1c97934263');\n",
              "          const dataTable =\n",
              "            await google.colab.kernel.invokeFunction('convertToInteractive',\n",
              "                                                     [key], {});\n",
              "          if (!dataTable) return;\n",
              "\n",
              "          const docLinkHtml = 'Like what you see? Visit the ' +\n",
              "            '<a target=\"_blank\" href=https://colab.research.google.com/notebooks/data_table.ipynb>data table notebook</a>'\n",
              "            + ' to learn more about interactive tables.';\n",
              "          element.innerHTML = '';\n",
              "          dataTable['output_type'] = 'display_data';\n",
              "          await google.colab.output.renderOutput(dataTable, element);\n",
              "          const docLink = document.createElement('div');\n",
              "          docLink.innerHTML = docLinkHtml;\n",
              "          element.appendChild(docLink);\n",
              "        }\n",
              "      </script>\n",
              "    </div>\n",
              "  </div>\n",
              "  "
            ]
          },
          "metadata": {},
          "execution_count": 10
        }
      ],
      "source": [
        "# pre-processing the prediction labels\n",
        "sentiment_data['Sentiment: Positive, neagtive, neutral'] = sentiment_data['Sentiment: Positive, neagtive, neutral'].replace((\" NU\",\"NU \"),(\"NU\",\"NU\"))\n",
        "sentiment_data['Sentiment: Positive, neagtive, neutral'] = sentiment_data['Sentiment: Positive, neagtive, neutral'].replace((\" N\",\"N \"),(\"N\",\"N\"))\n",
        "sentiment_data['Sentiment: Positive, neagtive, neutral'] = sentiment_data['Sentiment: Positive, neagtive, neutral'].replace((\" P\",\"P \",\" p\",\"p \",\"p\"),(\"P\",\"P\",\"P\",\"P\",\"P\"))\n",
        "sentiment_data.groupby(by=['Sentiment: Positive, neagtive, neutral'], dropna=False).count()"
      ]
    },
    {
      "cell_type": "markdown",
      "metadata": {
        "id": "MTvhkZgiZw64"
      },
      "source": [
        "## SETTING UP NLP LIBRARIES"
      ]
    },
    {
      "cell_type": "code",
      "execution_count": 11,
      "metadata": {
        "colab": {
          "base_uri": "https://localhost:8080/"
        },
        "id": "xZKOyZg0YcBE",
        "outputId": "6a5bd3a9-e0bb-4a2f-d558-69adaf27d841"
      },
      "outputs": [
        {
          "output_type": "stream",
          "name": "stderr",
          "text": [
            "[nltk_data] Downloading package stopwords to /root/nltk_data...\n",
            "[nltk_data]   Unzipping corpora/stopwords.zip.\n"
          ]
        },
        {
          "output_type": "execute_result",
          "data": {
            "text/plain": [
              "True"
            ]
          },
          "metadata": {},
          "execution_count": 11
        }
      ],
      "source": [
        "nltk.download('stopwords')"
      ]
    },
    {
      "cell_type": "code",
      "execution_count": 12,
      "metadata": {
        "colab": {
          "base_uri": "https://localhost:8080/"
        },
        "id": "zYTwflHnYcDS",
        "outputId": "c353e1a1-79c8-4565-d149-c16b0cf5469e"
      },
      "outputs": [
        {
          "output_type": "stream",
          "name": "stdout",
          "text": [
            "179\n"
          ]
        }
      ],
      "source": [
        "stopwords = nltk.corpus.stopwords.words('english')\n",
        "print(len(stopwords))\n",
        "lemmatizer = WordNetLemmatizer()"
      ]
    },
    {
      "cell_type": "code",
      "execution_count": 13,
      "metadata": {
        "colab": {
          "base_uri": "https://localhost:8080/"
        },
        "id": "W39jmaI-YcF0",
        "outputId": "d085a5a8-cef1-4b71-d555-4c89088ad8c9"
      },
      "outputs": [
        {
          "output_type": "stream",
          "name": "stderr",
          "text": [
            "[nltk_data] Downloading package wordnet to /root/nltk_data...\n",
            "[nltk_data] Downloading package omw-1.4 to /root/nltk_data...\n",
            "[nltk_data] Downloading package punkt to /root/nltk_data...\n",
            "[nltk_data]   Unzipping tokenizers/punkt.zip.\n"
          ]
        },
        {
          "output_type": "execute_result",
          "data": {
            "text/plain": [
              "True"
            ]
          },
          "metadata": {},
          "execution_count": 13
        }
      ],
      "source": [
        "nltk.download('wordnet')\n",
        "nltk.download('omw-1.4')\n",
        "nltk.download('punkt')"
      ]
    },
    {
      "cell_type": "markdown",
      "metadata": {
        "id": "F31vtxSCbtPX"
      },
      "source": [
        "## PREPROCESSING THE DATA "
      ]
    },
    {
      "cell_type": "code",
      "execution_count": 14,
      "metadata": {
        "id": "tm6j64RnYcIp"
      },
      "outputs": [],
      "source": [
        "# identifying the text and label\n",
        "X = sentiment_data['Comment']\n",
        "Y = sentiment_data['Sentiment: Positive, neagtive, neutral']"
      ]
    },
    {
      "cell_type": "code",
      "execution_count": 15,
      "metadata": {
        "id": "r4LEyasdcsy8"
      },
      "outputs": [],
      "source": [
        "# filtering the data for spaces, special characters, stopwords etc\n",
        "X_final=[]\n",
        "for i in range(0, len(X)):\n",
        "    review = re.sub('[^a-zA-Z]', ' ', X.iloc[i])\n",
        "    review = review.lower()\n",
        "    review = review.split()\n",
        "    review = [lemmatizer.lemmatize(word) for word in review if not word in set(stopwords)]\n",
        "    review = ' '.join(review)\n",
        "    X_final.append(review)"
      ]
    },
    {
      "cell_type": "markdown",
      "metadata": {
        "id": "HuqvINpSfaOp"
      },
      "source": [
        "## VECTORIZERS\n",
        "\n"
      ]
    },
    {
      "cell_type": "code",
      "execution_count": 16,
      "metadata": {
        "id": "x1BBxk1Uf56a"
      },
      "outputs": [],
      "source": [
        "# tf-idf\n",
        "tf_idf = TfidfVectorizer()\n",
        "X_tf = tf_idf.fit_transform(X_final)"
      ]
    },
    {
      "cell_type": "code",
      "execution_count": 18,
      "metadata": {
        "id": "xAb0VbkDhipx"
      },
      "outputs": [],
      "source": [
        "# tf-idf n=bigram\n",
        "vectorizer = CountVectorizer(ngram_range = (2,2))\n",
        "Xtf_bigram = vectorizer.fit_transform(X_final) "
      ]
    },
    {
      "cell_type": "code",
      "execution_count": 19,
      "metadata": {
        "id": "5PZynQyngsMJ"
      },
      "outputs": [],
      "source": [
        "# tf-idf n=trigram\n",
        "vectorizer = CountVectorizer(ngram_range = (3,3))\n",
        "Xtf_trigram = vectorizer.fit_transform(X_final) "
      ]
    },
    {
      "cell_type": "code",
      "execution_count": 20,
      "metadata": {
        "id": "opv9luT8hyjN",
        "outputId": "12f3bb6e-8db4-48bc-cb27-37f15a54b76c",
        "colab": {
          "base_uri": "https://localhost:8080/",
          "height": 256
        }
      },
      "outputs": [
        {
          "output_type": "error",
          "ename": "NameError",
          "evalue": "ignored",
          "traceback": [
            "\u001b[0;31m---------------------------------------------------------------------------\u001b[0m",
            "\u001b[0;31mNameError\u001b[0m                                 Traceback (most recent call last)",
            "\u001b[0;32m<ipython-input-20-cf3724d85964>\u001b[0m in \u001b[0;36m<module>\u001b[0;34m\u001b[0m\n\u001b[1;32m      1\u001b[0m \u001b[0;31m# fasttext\u001b[0m\u001b[0;34m\u001b[0m\u001b[0;34m\u001b[0m\u001b[0;34m\u001b[0m\u001b[0m\n\u001b[0;32m----> 2\u001b[0;31m \u001b[0mX_fasttext\u001b[0m \u001b[0;34m=\u001b[0m \u001b[0;34m[\u001b[0m\u001b[0mT_ft\u001b[0m\u001b[0;34m.\u001b[0m\u001b[0mget_word_vector\u001b[0m\u001b[0;34m(\u001b[0m\u001b[0mwords\u001b[0m\u001b[0;34m)\u001b[0m \u001b[0;32mfor\u001b[0m \u001b[0mwords\u001b[0m \u001b[0;32min\u001b[0m \u001b[0mX_final\u001b[0m\u001b[0;34m]\u001b[0m\u001b[0;34m\u001b[0m\u001b[0;34m\u001b[0m\u001b[0m\n\u001b[0m",
            "\u001b[0;32m<ipython-input-20-cf3724d85964>\u001b[0m in \u001b[0;36m<listcomp>\u001b[0;34m(.0)\u001b[0m\n\u001b[1;32m      1\u001b[0m \u001b[0;31m# fasttext\u001b[0m\u001b[0;34m\u001b[0m\u001b[0;34m\u001b[0m\u001b[0;34m\u001b[0m\u001b[0m\n\u001b[0;32m----> 2\u001b[0;31m \u001b[0mX_fasttext\u001b[0m \u001b[0;34m=\u001b[0m \u001b[0;34m[\u001b[0m\u001b[0mT_ft\u001b[0m\u001b[0;34m.\u001b[0m\u001b[0mget_word_vector\u001b[0m\u001b[0;34m(\u001b[0m\u001b[0mwords\u001b[0m\u001b[0;34m)\u001b[0m \u001b[0;32mfor\u001b[0m \u001b[0mwords\u001b[0m \u001b[0;32min\u001b[0m \u001b[0mX_final\u001b[0m\u001b[0;34m]\u001b[0m\u001b[0;34m\u001b[0m\u001b[0;34m\u001b[0m\u001b[0m\n\u001b[0m",
            "\u001b[0;31mNameError\u001b[0m: name 'T_ft' is not defined"
          ]
        }
      ],
      "source": [
        "# fasttext\n",
        "X_fasttext = [T_ft.get_word_vector(words) for words in X_final] "
      ]
    },
    {
      "cell_type": "markdown",
      "metadata": {
        "id": "U3u4plDIhY-J"
      },
      "source": [
        "## APPLYING DATA AUGMENTATION"
      ]
    },
    {
      "cell_type": "code",
      "execution_count": 17,
      "metadata": {
        "id": "gDkclbSUgsPl"
      },
      "outputs": [],
      "source": [
        "sm = SMOTE(random_state=42)"
      ]
    },
    {
      "cell_type": "code",
      "execution_count": 21,
      "metadata": {
        "id": "jsu_tuT2f59z",
        "outputId": "49591b93-c08c-4002-da62-35bf5d7ae252",
        "colab": {
          "base_uri": "https://localhost:8080/",
          "height": 203
        }
      },
      "outputs": [
        {
          "output_type": "error",
          "ename": "NameError",
          "evalue": "ignored",
          "traceback": [
            "\u001b[0;31m---------------------------------------------------------------------------\u001b[0m",
            "\u001b[0;31mNameError\u001b[0m                                 Traceback (most recent call last)",
            "\u001b[0;32m<ipython-input-21-217b20172d81>\u001b[0m in \u001b[0;36m<module>\u001b[0;34m\u001b[0m\n\u001b[1;32m      3\u001b[0m \u001b[0mX_tf_bigram_augmented\u001b[0m\u001b[0;34m,\u001b[0m \u001b[0mY_augmented\u001b[0m \u001b[0;34m=\u001b[0m \u001b[0msm\u001b[0m\u001b[0;34m.\u001b[0m\u001b[0mfit_resample\u001b[0m\u001b[0;34m(\u001b[0m\u001b[0mXtf_bigram\u001b[0m\u001b[0;34m,\u001b[0m \u001b[0mY\u001b[0m\u001b[0;34m)\u001b[0m\u001b[0;34m\u001b[0m\u001b[0;34m\u001b[0m\u001b[0m\n\u001b[1;32m      4\u001b[0m \u001b[0mX_tf_trigram_augmented\u001b[0m\u001b[0;34m,\u001b[0m \u001b[0mY_augmented\u001b[0m \u001b[0;34m=\u001b[0m \u001b[0msm\u001b[0m\u001b[0;34m.\u001b[0m\u001b[0mfit_resample\u001b[0m\u001b[0;34m(\u001b[0m\u001b[0mXtf_trigram\u001b[0m\u001b[0;34m,\u001b[0m \u001b[0mY\u001b[0m\u001b[0;34m)\u001b[0m\u001b[0;34m\u001b[0m\u001b[0;34m\u001b[0m\u001b[0m\n\u001b[0;32m----> 5\u001b[0;31m \u001b[0mX_fasttext_augmented\u001b[0m\u001b[0;34m,\u001b[0m \u001b[0mY_augmented\u001b[0m \u001b[0;34m=\u001b[0m \u001b[0msm\u001b[0m\u001b[0;34m.\u001b[0m\u001b[0mfit_resample\u001b[0m\u001b[0;34m(\u001b[0m\u001b[0mX_fasttext\u001b[0m\u001b[0;34m,\u001b[0m \u001b[0mY\u001b[0m\u001b[0;34m)\u001b[0m\u001b[0;34m\u001b[0m\u001b[0;34m\u001b[0m\u001b[0m\n\u001b[0m",
            "\u001b[0;31mNameError\u001b[0m: name 'X_fasttext' is not defined"
          ]
        }
      ],
      "source": [
        "# data augmentation with all models\n",
        "X_tf_augmented, Y_augmented = sm.fit_resample(X_tf, Y)\n",
        "X_tf_bigram_augmented, Y_augmented = sm.fit_resample(Xtf_bigram, Y)\n",
        "X_tf_trigram_augmented, Y_augmented = sm.fit_resample(Xtf_trigram, Y)\n",
        "X_fasttext_augmented, Y_augmented = sm.fit_resample(X_fasttext, Y)"
      ]
    },
    {
      "cell_type": "markdown",
      "metadata": {
        "id": "29zFm_kldI_E"
      },
      "source": [
        "## EVALUATION FUNCTIONS FOR MODEL"
      ]
    },
    {
      "cell_type": "code",
      "execution_count": 22,
      "metadata": {
        "id": "H3xaWU1Ucs2V"
      },
      "outputs": [],
      "source": [
        "# to store f1 score and accuracy scores for all baseline models\n",
        "f1_df = pd.DataFrame()\n",
        "f1_df.insert(loc=0,\n",
        "          column='Model',\n",
        "          value=['KNN Classifier', 'SVC', 'Decision tree', 'Adaboost',\n",
        "                 'Logistic regression', 'MLP', 'Random forest', 'Ensembled Model'])\n",
        "\n",
        "acc_df = pd.DataFrame()\n",
        "acc_df.insert(loc=0,\n",
        "          column='Model',\n",
        "          value=['KNN Classifier', 'SVC', 'Decision tree', 'Adaboost',\n",
        "                 'Logistic regression', 'MLP', 'Random forest', 'Ensembled Model'])\n",
        "wrong_predictions = pd.DataFrame()"
      ]
    },
    {
      "cell_type": "code",
      "execution_count": 35,
      "metadata": {
        "id": "f0E1EfC1j_9h"
      },
      "outputs": [],
      "source": [
        "head = [\"Metric\", \"Value\"]\n",
        "f1_scores = []\n",
        "acc_scores = [] \n",
        "def evaluate_model(model, _X, _y, flag, _cv=5):\n",
        "      _scoring = ['precision_macro', 'recall_macro', 'balanced_accuracy', 'f1_weighted']\n",
        "      results = cross_validate(estimator=model,\n",
        "                               X=_X,\n",
        "                               y=_y,\n",
        "                               cv=_cv,\n",
        "                               scoring=_scoring,\n",
        "                               return_train_score=True)\n",
        "      f1_scores.append(results['test_f1_weighted'].mean()*100)\n",
        "      acc_scores.append(results['test_balanced_accuracy'].mean()*100)\n",
        "      print(\"F1 Score: \",results['train_f1_weighted'])\n",
        "      print(\"Balanced Accuracy\", results['train_balanced_accuracy'])\n",
        "      print(\"Recall: \",results['train_recall_macro'])\n",
        "      print(\"Precision\", results['train_precision_macro'])\n",
        "\n",
        "      # finding wrongly classified instances for best performing model (ie, TF-IDF Ensemble)\n",
        "      if(flag == 1):\n",
        "        y_pred = cross_val_predict(model, _X, _y, cv=10)\n",
        "        indices = [(i,_y[i],y_pred[i]) for i in range(len(ind2)) if _y[i] != y_pred[i]]\n",
        "        print(indices)\n",
        "\n",
        "      # confusion matrix calculation and display\n",
        "      y_pred = cross_val_predict(model, _X, _y, cv=10)\n",
        "      conf_mat = confusion_matrix(_y, y_pred)\n",
        "      disp = ConfusionMatrixDisplay(confusion_matrix=conf_mat,display_labels=['p','n','nu'])\n",
        "      disp.plot()\n",
        "      plt.show()"
      ]
    },
    {
      "cell_type": "code",
      "execution_count": 31,
      "metadata": {
        "id": "4UJUv3OWlBy1"
      },
      "outputs": [],
      "source": [
        "def baseline_models():\n",
        "  models = {}\n",
        "\n",
        "  # defining baseline models\n",
        "  knn_classifier = KNeighborsClassifier(3)\n",
        "  svc_classifier =  SVC(kernel=\"linear\", C=0.025)\n",
        "  decision_classifier = DecisionTreeClassifier(max_depth=5)\n",
        "  abc = AdaBoostClassifier(n_estimators=100, random_state=0)\n",
        "  logistic_regression = LogisticRegression(random_state=0)\n",
        "  mlp = MLPClassifier(random_state=1, max_iter=200)\n",
        "  random_forest = RandomForestClassifier(max_depth=2, random_state=0)\n",
        "\n",
        "  # ensemble model of 3 best performing models\n",
        "  ensembled_model = VotingClassifier([('abc', abc), ('lr', logistic_regression), ('mlp', mlp)], voting='soft')\n",
        "\n",
        "  models['KNN'] = knn_classifier\n",
        "  models['SVC'] = svc_classifier\n",
        "  models['DT'] = decision_classifier\n",
        "  models['ABC'] = abc\n",
        "  models['LR'] = logistic_regression\n",
        "  models['MLP'] = mlp\n",
        "  models['RF'] = random_forest\n",
        "  models['ENSEMBLE'] = ensembled_model\n",
        "  return models"
      ]
    },
    {
      "cell_type": "code",
      "execution_count": 33,
      "metadata": {
        "id": "XsKRMGG4j__5"
      },
      "outputs": [],
      "source": [
        "# evaluating a vectoriser model\n",
        "def evaluate_vectorizer(X, y, vectoriser, i, flag):\n",
        "  print('\\t\\t\\t\\t',vectoriser.upper())\n",
        "  models = baseline_models()\n",
        "  for (name,model) in baseline_models().items():\n",
        "    print('\\t\\t',name.upper())\n",
        "    if(name=='ENSEMBLE'):\n",
        "      evaluate_model(model, X, y, flag)\n",
        "  f1_df.insert(loc=i,\n",
        "          column=vectoriser,\n",
        "          value=f1_scores)\n",
        "  acc_df.insert(loc=i,\n",
        "          column=vectoriser,\n",
        "          value=acc_scores)"
      ]
    },
    {
      "cell_type": "markdown",
      "metadata": {
        "id": "s0C46ShN0YUZ"
      },
      "source": [
        "## EVALUATION AND RESULTS"
      ]
    },
    {
      "cell_type": "code",
      "execution_count": 36,
      "metadata": {
        "colab": {
          "base_uri": "https://localhost:8080/",
          "height": 899
        },
        "id": "hMLNu_3R1sjb",
        "outputId": "7af0f13f-5168-456d-baf5-176106e2b0bb"
      },
      "outputs": [
        {
          "output_type": "stream",
          "name": "stdout",
          "text": [
            "\t\t\t\t TF-IDF (AUGMENTED)\n",
            "\t\t KNN\n",
            "\t\t SVC\n",
            "\t\t DT\n",
            "\t\t ABC\n",
            "\t\t LR\n",
            "\t\t MLP\n",
            "\t\t RF\n",
            "\t\t ENSEMBLE\n",
            "F1 Score:  [0.96001755 0.95644987 0.95230859 0.95682115 0.95500982]\n",
            "Balanced Accuracy [0.95951038 0.95586207 0.95169175 0.95632184 0.95448276]\n",
            "Recall:  [0.95951038 0.95586207 0.95169175 0.95632184 0.95448276]\n",
            "Precision [0.9637991  0.96097561 0.95726308 0.96086889 0.95943848]\n",
            "[(5, 'P', 'N'), (8, 'NU', 'P'), (14, 'P', 'N'), (15, 'P', 'N'), (20, 'P', 'N'), (21, 'P', 'NU'), (22, 'NU', 'P'), (23, 'NU', 'N'), (26, 'NU', 'N'), (27, 'P', 'N'), (39, 'NU', 'N'), (40, 'P', 'N'), (43, 'P', 'N'), (48, 'P', 'N'), (50, 'NU', 'P'), (57, 'NU', 'P'), (58, 'P', 'N'), (59, 'NU', 'N'), (60, 'NU', 'N'), (62, 'P', 'N'), (63, 'NU', 'N'), (67, 'P', 'N'), (68, 'NU', 'N'), (69, 'P', 'N'), (73, 'NU', 'P'), (74, 'NU', 'N'), (75, 'NU', 'P'), (76, 'NU', 'P'), (78, 'NU', 'P'), (79, 'NU', 'N'), (80, 'NU', 'N'), (83, 'NU', 'N'), (85, 'NU', 'P'), (99, 'NU', 'N'), (100, 'NU', 'N'), (102, 'NU', 'N'), (103, 'P', 'N'), (105, 'NU', 'P'), (106, 'P', 'N'), (107, 'NU', 'N'), (108, 'NU', 'P'), (110, 'P', 'NU'), (114, 'NU', 'N'), (115, 'NU', 'P'), (116, 'NU', 'N'), (117, 'NU', 'P'), (121, 'P', 'N'), (123, 'NU', 'N'), (126, 'NU', 'P'), (127, 'NU', 'N'), (130, 'NU', 'P'), (131, 'P', 'N'), (132, 'NU', 'N'), (134, 'NU', 'P'), (138, 'P', 'N'), (146, 'NU', 'P'), (147, 'P', 'N'), (149, 'NU', 'P'), (155, 'P', 'NU'), (169, 'NU', 'N'), (176, 'P', 'NU'), (179, 'P', 'N'), (186, 'P', 'NU'), (208, 'P', 'N'), (216, 'NU', 'P'), (217, 'NU', 'N'), (218, 'NU', 'N'), (224, 'NU', 'N'), (227, 'NU', 'P'), (231, 'P', 'N'), (239, 'P', 'N'), (245, 'NU', 'N'), (248, 'P', 'N'), (249, 'P', 'N'), (253, 'NU', 'N'), (262, 'P', 'NU'), (273, 'P', 'N'), (275, 'P', 'NU'), (279, 'P', 'N'), (281, 'P', 'N'), (282, 'NU', 'N'), (283, 'NU', 'N'), (284, 'NU', 'N'), (285, 'NU', 'P'), (290, 'NU', 'N'), (291, 'NU', 'N'), (292, 'P', 'N'), (295, 'NU', 'N'), (296, 'NU', 'N'), (300, 'NU', 'N'), (302, 'P', 'NU'), (303, 'NU', 'P'), (305, 'NU', 'P'), (307, 'NU', 'N'), (309, 'NU', 'P'), (315, 'NU', 'P'), (316, 'NU', 'P'), (317, 'NU', 'P'), (319, 'NU', 'N'), (320, 'NU', 'P'), (327, 'NU', 'P'), (328, 'NU', 'P'), (329, 'NU', 'P'), (330, 'NU', 'P'), (335, 'NU', 'N'), (337, 'NU', 'P'), (338, 'NU', 'P'), (339, 'NU', 'P'), (341, 'NU', 'N'), (343, 'NU', 'P'), (349, 'NU', 'P'), (350, 'NU', 'P'), (351, 'NU', 'P'), (353, 'NU', 'N'), (354, 'NU', 'P'), (360, 'NU', 'N'), (362, 'NU', 'P'), (363, 'P', 'NU'), (364, 'P', 'NU'), (365, 'NU', 'P'), (369, 'P', 'NU'), (371, 'NU', 'P'), (372, 'NU', 'P'), (377, 'NU', 'P'), (381, 'NU', 'N'), (384, 'NU', 'P'), (385, 'NU', 'N'), (389, 'NU', 'N'), (391, 'NU', 'N'), (392, 'NU', 'N'), (397, 'NU', 'N'), (398, 'NU', 'N'), (399, 'NU', 'P'), (402, 'NU', 'P'), (403, 'NU', 'P'), (404, 'NU', 'N'), (406, 'NU', 'N'), (407, 'NU', 'P'), (408, 'NU', 'P'), (410, 'NU', 'N'), (415, 'NU', 'P'), (418, 'NU', 'P'), (421, 'NU', 'N'), (424, 'NU', 'N'), (426, 'NU', 'P'), (427, 'NU', 'N'), (428, 'NU', 'N'), (429, 'NU', 'N'), (430, 'P', 'NU'), (432, 'NU', 'P'), (433, 'NU', 'N'), (434, 'NU', 'N'), (437, 'NU', 'P'), (441, 'P', 'N'), (443, 'NU', 'N'), (446, 'NU', 'N'), (447, 'NU', 'P'), (451, 'NU', 'P'), (452, 'NU', 'P'), (455, 'NU', 'N'), (458, 'NU', 'N'), (461, 'P', 'N'), (462, 'P', 'N'), (464, 'NU', 'N'), (465, 'NU', 'N'), (468, 'P', 'N'), (471, 'P', 'N'), (472, 'P', 'N'), (473, 'NU', 'N'), (474, 'NU', 'N'), (475, 'NU', 'N'), (478, 'NU', 'N'), (481, 'NU', 'P'), (482, 'NU', 'N'), (484, 'P', 'NU'), (485, 'NU', 'N'), (486, 'NU', 'N'), (490, 'NU', 'N'), (496, 'NU', 'P'), (497, 'NU', 'P'), (498, 'NU', 'N'), (502, 'NU', 'P'), (503, 'P', 'N'), (504, 'NU', 'N'), (505, 'NU', 'P'), (507, 'NU', 'N'), (508, 'NU', 'P'), (509, 'P', 'N'), (510, 'NU', 'N'), (511, 'NU', 'N'), (512, 'NU', 'P'), (513, 'NU', 'N'), (517, 'NU', 'P'), (518, 'NU', 'P'), (520, 'P', 'N'), (521, 'NU', 'N'), (523, 'NU', 'N'), (525, 'NU', 'P'), (526, 'NU', 'N'), (528, 'P', 'N'), (534, 'NU', 'P'), (535, 'NU', 'N'), (538, 'NU', 'N'), (540, 'NU', 'N'), (543, 'NU', 'N')]\n"
          ]
        },
        {
          "output_type": "display_data",
          "data": {
            "text/plain": [
              "<Figure size 432x288 with 2 Axes>"
            ],
            "image/png": "[encoded data removed]"
          },
          "metadata": {
            "needs_background": "light"
          }
        },
        {
          "output_type": "error",
          "ename": "ValueError",
          "evalue": "ignored",
          "traceback": [
            "\u001b[0;31m---------------------------------------------------------------------------\u001b[0m",
            "\u001b[0;31mValueError\u001b[0m                                Traceback (most recent call last)",
            "\u001b[0;32m<ipython-input-36-acedd79260ef>\u001b[0m in \u001b[0;36m<module>\u001b[0;34m\u001b[0m\n\u001b[1;32m     18\u001b[0m   \u001b[0mindices\u001b[0m \u001b[0;34m=\u001b[0m \u001b[0mnp\u001b[0m\u001b[0;34m.\u001b[0m\u001b[0marange\u001b[0m\u001b[0;34m(\u001b[0m\u001b[0mX_tf_augmented\u001b[0m\u001b[0;34m.\u001b[0m\u001b[0mshape\u001b[0m\u001b[0;34m[\u001b[0m\u001b[0;36m0\u001b[0m\u001b[0;34m]\u001b[0m\u001b[0;34m)\u001b[0m\u001b[0;34m\u001b[0m\u001b[0;34m\u001b[0m\u001b[0m\n\u001b[1;32m     19\u001b[0m   \u001b[0mX_train\u001b[0m\u001b[0;34m,\u001b[0m \u001b[0mX_test\u001b[0m\u001b[0;34m,\u001b[0m \u001b[0my_train\u001b[0m\u001b[0;34m,\u001b[0m \u001b[0my_test\u001b[0m\u001b[0;34m,\u001b[0m \u001b[0mind1\u001b[0m\u001b[0;34m,\u001b[0m \u001b[0mind2\u001b[0m \u001b[0;34m=\u001b[0m \u001b[0mtrain_test_split\u001b[0m\u001b[0;34m(\u001b[0m\u001b[0mX_tf_augmented\u001b[0m\u001b[0;34m,\u001b[0m \u001b[0mY_augmented\u001b[0m\u001b[0;34m,\u001b[0m \u001b[0mindices\u001b[0m\u001b[0;34m,\u001b[0m \u001b[0mtest_size\u001b[0m\u001b[0;34m=\u001b[0m\u001b[0;36m0.20\u001b[0m\u001b[0;34m,\u001b[0m \u001b[0mrandom_state\u001b[0m\u001b[0;34m=\u001b[0m\u001b[0;36m0\u001b[0m\u001b[0;34m)\u001b[0m\u001b[0;34m\u001b[0m\u001b[0;34m\u001b[0m\u001b[0m\n\u001b[0;32m---> 20\u001b[0;31m   \u001b[0mevaluate_vectorizer\u001b[0m\u001b[0;34m(\u001b[0m\u001b[0mdata\u001b[0m\u001b[0;34m[\u001b[0m\u001b[0;36m0\u001b[0m\u001b[0;34m]\u001b[0m\u001b[0;34m,\u001b[0m \u001b[0mdata\u001b[0m\u001b[0;34m[\u001b[0m\u001b[0;36m1\u001b[0m\u001b[0;34m]\u001b[0m\u001b[0;34m,\u001b[0m \u001b[0mmodel\u001b[0m\u001b[0;34m,\u001b[0m \u001b[0mi\u001b[0m\u001b[0;34m,\u001b[0m \u001b[0mflag\u001b[0m\u001b[0;34m)\u001b[0m\u001b[0;34m\u001b[0m\u001b[0;34m\u001b[0m\u001b[0m\n\u001b[0m\u001b[1;32m     21\u001b[0m   \u001b[0mi\u001b[0m\u001b[0;34m=\u001b[0m\u001b[0mi\u001b[0m\u001b[0;34m+\u001b[0m\u001b[0;36m1\u001b[0m\u001b[0;34m\u001b[0m\u001b[0;34m\u001b[0m\u001b[0m\n",
            "\u001b[0;32m<ipython-input-33-9fb011e7e7f3>\u001b[0m in \u001b[0;36mevaluate_vectorizer\u001b[0;34m(X, y, vectoriser, i, flag)\u001b[0m\n\u001b[1;32m      7\u001b[0m     \u001b[0;32mif\u001b[0m\u001b[0;34m(\u001b[0m\u001b[0mname\u001b[0m\u001b[0;34m==\u001b[0m\u001b[0;34m'ENSEMBLE'\u001b[0m\u001b[0;34m)\u001b[0m\u001b[0;34m:\u001b[0m\u001b[0;34m\u001b[0m\u001b[0;34m\u001b[0m\u001b[0m\n\u001b[1;32m      8\u001b[0m       \u001b[0mevaluate_model\u001b[0m\u001b[0;34m(\u001b[0m\u001b[0mmodel\u001b[0m\u001b[0;34m,\u001b[0m \u001b[0mX\u001b[0m\u001b[0;34m,\u001b[0m \u001b[0my\u001b[0m\u001b[0;34m,\u001b[0m \u001b[0mflag\u001b[0m\u001b[0;34m)\u001b[0m\u001b[0;34m\u001b[0m\u001b[0;34m\u001b[0m\u001b[0m\n\u001b[0;32m----> 9\u001b[0;31m   f1_df.insert(loc=i,\n\u001b[0m\u001b[1;32m     10\u001b[0m           \u001b[0mcolumn\u001b[0m\u001b[0;34m=\u001b[0m\u001b[0mvectoriser\u001b[0m\u001b[0;34m,\u001b[0m\u001b[0;34m\u001b[0m\u001b[0;34m\u001b[0m\u001b[0m\n\u001b[1;32m     11\u001b[0m           value=f1_scores)\n",
            "\u001b[0;32m/usr/local/lib/python3.8/dist-packages/pandas/core/frame.py\u001b[0m in \u001b[0;36minsert\u001b[0;34m(self, loc, column, value, allow_duplicates)\u001b[0m\n\u001b[1;32m   4416\u001b[0m             \u001b[0;32mraise\u001b[0m \u001b[0mTypeError\u001b[0m\u001b[0;34m(\u001b[0m\u001b[0;34m\"loc must be int\"\u001b[0m\u001b[0;34m)\u001b[0m\u001b[0;34m\u001b[0m\u001b[0;34m\u001b[0m\u001b[0m\n\u001b[1;32m   4417\u001b[0m \u001b[0;34m\u001b[0m\u001b[0m\n\u001b[0;32m-> 4418\u001b[0;31m         \u001b[0mvalue\u001b[0m \u001b[0;34m=\u001b[0m \u001b[0mself\u001b[0m\u001b[0;34m.\u001b[0m\u001b[0m_sanitize_column\u001b[0m\u001b[0;34m(\u001b[0m\u001b[0mvalue\u001b[0m\u001b[0;34m)\u001b[0m\u001b[0;34m\u001b[0m\u001b[0;34m\u001b[0m\u001b[0m\n\u001b[0m\u001b[1;32m   4419\u001b[0m         \u001b[0mself\u001b[0m\u001b[0;34m.\u001b[0m\u001b[0m_mgr\u001b[0m\u001b[0;34m.\u001b[0m\u001b[0minsert\u001b[0m\u001b[0;34m(\u001b[0m\u001b[0mloc\u001b[0m\u001b[0;34m,\u001b[0m \u001b[0mcolumn\u001b[0m\u001b[0;34m,\u001b[0m \u001b[0mvalue\u001b[0m\u001b[0;34m)\u001b[0m\u001b[0;34m\u001b[0m\u001b[0;34m\u001b[0m\u001b[0m\n\u001b[1;32m   4420\u001b[0m \u001b[0;34m\u001b[0m\u001b[0m\n",
            "\u001b[0;32m/usr/local/lib/python3.8/dist-packages/pandas/core/frame.py\u001b[0m in \u001b[0;36m_sanitize_column\u001b[0;34m(self, value)\u001b[0m\n\u001b[1;32m   4507\u001b[0m \u001b[0;34m\u001b[0m\u001b[0m\n\u001b[1;32m   4508\u001b[0m         \u001b[0;32mif\u001b[0m \u001b[0mis_list_like\u001b[0m\u001b[0;34m(\u001b[0m\u001b[0mvalue\u001b[0m\u001b[0;34m)\u001b[0m\u001b[0;34m:\u001b[0m\u001b[0;34m\u001b[0m\u001b[0;34m\u001b[0m\u001b[0m\n\u001b[0;32m-> 4509\u001b[0;31m             \u001b[0mcom\u001b[0m\u001b[0;34m.\u001b[0m\u001b[0mrequire_length_match\u001b[0m\u001b[0;34m(\u001b[0m\u001b[0mvalue\u001b[0m\u001b[0;34m,\u001b[0m \u001b[0mself\u001b[0m\u001b[0;34m.\u001b[0m\u001b[0mindex\u001b[0m\u001b[0;34m)\u001b[0m\u001b[0;34m\u001b[0m\u001b[0;34m\u001b[0m\u001b[0m\n\u001b[0m\u001b[1;32m   4510\u001b[0m         \u001b[0;32mreturn\u001b[0m \u001b[0msanitize_array\u001b[0m\u001b[0;34m(\u001b[0m\u001b[0mvalue\u001b[0m\u001b[0;34m,\u001b[0m \u001b[0mself\u001b[0m\u001b[0;34m.\u001b[0m\u001b[0mindex\u001b[0m\u001b[0;34m,\u001b[0m \u001b[0mcopy\u001b[0m\u001b[0;34m=\u001b[0m\u001b[0;32mTrue\u001b[0m\u001b[0;34m,\u001b[0m \u001b[0mallow_2d\u001b[0m\u001b[0;34m=\u001b[0m\u001b[0;32mTrue\u001b[0m\u001b[0;34m)\u001b[0m\u001b[0;34m\u001b[0m\u001b[0;34m\u001b[0m\u001b[0m\n\u001b[1;32m   4511\u001b[0m \u001b[0;34m\u001b[0m\u001b[0m\n",
            "\u001b[0;32m/usr/local/lib/python3.8/dist-packages/pandas/core/common.py\u001b[0m in \u001b[0;36mrequire_length_match\u001b[0;34m(data, index)\u001b[0m\n\u001b[1;32m    529\u001b[0m     \"\"\"\n\u001b[1;32m    530\u001b[0m     \u001b[0;32mif\u001b[0m \u001b[0mlen\u001b[0m\u001b[0;34m(\u001b[0m\u001b[0mdata\u001b[0m\u001b[0;34m)\u001b[0m \u001b[0;34m!=\u001b[0m \u001b[0mlen\u001b[0m\u001b[0;34m(\u001b[0m\u001b[0mindex\u001b[0m\u001b[0;34m)\u001b[0m\u001b[0;34m:\u001b[0m\u001b[0;34m\u001b[0m\u001b[0;34m\u001b[0m\u001b[0m\n\u001b[0;32m--> 531\u001b[0;31m         raise ValueError(\n\u001b[0m\u001b[1;32m    532\u001b[0m             \u001b[0;34m\"Length of values \"\u001b[0m\u001b[0;34m\u001b[0m\u001b[0;34m\u001b[0m\u001b[0m\n\u001b[1;32m    533\u001b[0m             \u001b[0;34mf\"({len(data)}) \"\u001b[0m\u001b[0;34m\u001b[0m\u001b[0;34m\u001b[0m\u001b[0m\n",
            "\u001b[0;31mValueError\u001b[0m: Length of values (1) does not match length of index (8)"
          ]
        }
      ],
      "source": [
        "data = {\n",
        "    # \"TF-IDF\": (X_tf, Y), \n",
        "    # \"Bigram\": (Xtf_bigram, Y), \n",
        "    # \"Trigram\": (Xtf_trigram, Y), \n",
        "    # \"Fasttext\": (X_fasttext, Y), \n",
        "    \"TF-IDF (augmented)\": (X_tf_augmented, Y_augmented), \n",
        "    # \"Bigram (augmented)\": (X_tf_bigram_augmented, Y_augmented), \n",
        "    # \"Trigram (augmented)\": (X_tf_trigram_augmented, Y_augmented), \n",
        "    #\"Fasttext (augmented)\": (X_fasttext_augmented, Y_augmented) \n",
        "}\n",
        "i=1\n",
        "flag = 0\n",
        "for (model, data) in data.items():\n",
        "  f1_scores = []\n",
        "  acc_scores = []\n",
        "  if(model == 'TF-IDF (augmented)'):\n",
        "    flag = 1\n",
        "  indices = np.arange(X_tf_augmented.shape[0])\n",
        "  X_train, X_test, y_train, y_test, ind1, ind2 = train_test_split(X_tf_augmented, Y_augmented, indices, test_size=0.20, random_state=0)\n",
        "  evaluate_vectorizer(data[0], data[1], model, i, flag)\n",
        "  i=i+1"
      ]
    },
    {
      "cell_type": "code",
      "source": [
        "indices = np.arange(X_tf_augmented.shape[0])\n",
        "X_train, X_test, y_train, y_test, ind1, ind2 = train_test_split(X_tf_augmented, Y_augmented, indices, test_size=0.20, random_state=0)"
      ],
      "metadata": {
        "id": "mVkZynFe_EKo"
      },
      "execution_count": null,
      "outputs": []
    },
    {
      "cell_type": "markdown",
      "metadata": {
        "id": "o6D6da2zqJcS"
      },
      "source": [
        "## ERROR ANALYSIS (IDENTIFYING WRONG PREDICTIONS)"
      ]
    },
    {
      "cell_type": "code",
      "execution_count": 32,
      "metadata": {
        "colab": {
          "base_uri": "https://localhost:8080/",
          "height": 186
        },
        "id": "ayEhvefckADP",
        "outputId": "43d6b669-9c79-4f88-aef1-0d96377c0045"
      },
      "outputs": [
        {
          "output_type": "error",
          "ename": "NameError",
          "evalue": "ignored",
          "traceback": [
            "\u001b[0;31m---------------------------------------------------------------------------\u001b[0m",
            "\u001b[0;31mNameError\u001b[0m                                 Traceback (most recent call last)",
            "\u001b[0;32m<ipython-input-32-480f09a015ad>\u001b[0m in \u001b[0;36m<module>\u001b[0;34m\u001b[0m\n\u001b[1;32m      1\u001b[0m \u001b[0mX_train\u001b[0m\u001b[0;34m,\u001b[0m \u001b[0mX_test\u001b[0m\u001b[0;34m,\u001b[0m \u001b[0my_train\u001b[0m\u001b[0;34m,\u001b[0m \u001b[0my_test\u001b[0m\u001b[0;34m,\u001b[0m \u001b[0mind1\u001b[0m\u001b[0;34m,\u001b[0m \u001b[0mind2\u001b[0m \u001b[0;34m=\u001b[0m \u001b[0mtrain_test_split\u001b[0m\u001b[0;34m(\u001b[0m\u001b[0mX_tf_augmented\u001b[0m\u001b[0;34m,\u001b[0m \u001b[0mY_augmented\u001b[0m\u001b[0;34m,\u001b[0m \u001b[0mindices\u001b[0m\u001b[0;34m,\u001b[0m \u001b[0mtest_size\u001b[0m\u001b[0;34m=\u001b[0m\u001b[0;36m0.20\u001b[0m\u001b[0;34m,\u001b[0m \u001b[0mrandom_state\u001b[0m\u001b[0;34m=\u001b[0m\u001b[0;36m0\u001b[0m\u001b[0;34m)\u001b[0m\u001b[0;34m\u001b[0m\u001b[0;34m\u001b[0m\u001b[0m\n\u001b[0;32m----> 2\u001b[0;31m \u001b[0mevaluate_model\u001b[0m\u001b[0;34m(\u001b[0m\u001b[0mensembled_model\u001b[0m\u001b[0;34m,\u001b[0m\u001b[0mX_tf_augmented\u001b[0m\u001b[0;34m,\u001b[0m \u001b[0mY_augmented\u001b[0m\u001b[0;34m,\u001b[0m \u001b[0;36m1\u001b[0m\u001b[0;34m)\u001b[0m\u001b[0;34m\u001b[0m\u001b[0;34m\u001b[0m\u001b[0m\n\u001b[0m",
            "\u001b[0;31mNameError\u001b[0m: name 'ensembled_model' is not defined"
          ]
        }
      ],
      "source": [
        "X_train, X_test, y_train, y_test, ind1, ind2 = train_test_split(X_tf_augmented, Y_augmented, indices, test_size=0.20, random_state=0)\n",
        "evaluate_model(ensembled_model,X_tf_augmented, Y_augmented, 1)"
      ]
    },
    {
      "cell_type": "code",
      "execution_count": null,
      "metadata": {
        "id": "3tij1m65YcMP",
        "colab": {
          "base_uri": "https://localhost:8080/",
          "height": 300
        },
        "outputId": "4ae423bf-a02f-42ce-f76d-f237cb9c12cd"
      },
      "outputs": [
        {
          "output_type": "execute_result",
          "data": {
            "text/plain": [
              "                 Model  TF-IDF (augmented)  Bigram (augmented)  \\\n",
              "0       KNN Classifier           52.578876           33.736668   \n",
              "1                  SVC           45.488029           33.554328   \n",
              "2        Decision tree           45.030660           33.663611   \n",
              "3             Adaboost           68.393338           37.709510   \n",
              "4  Logistic regression           72.701921           40.947726   \n",
              "5                  MLP           73.142898           43.411046   \n",
              "6        Random forest           59.962965           35.981017   \n",
              "7      Ensembled Model           73.584482           43.006496   \n",
              "\n",
              "   Trigram (augmented)  Fasttext (augmented)  \n",
              "0            33.406998             59.459656  \n",
              "1            33.332929             36.464088  \n",
              "2            33.369963             51.031915  \n",
              "3            33.848582             62.545484  \n",
              "4            34.547791             56.327889  \n",
              "5            35.246393             69.210329  \n",
              "6            33.517293             56.288021  \n",
              "7            35.136300             69.098213  "
            ],
            "text/html": [
              "\n",
              "  <div id=\"df-b1193ec0-49c4-4913-adfe-eb98e2ab31ec\">\n",
              "    <div class=\"colab-df-container\">\n",
              "      <div>\n",
              "<style scoped>\n",
              "    .dataframe tbody tr th:only-of-type {\n",
              "        vertical-align: middle;\n",
              "    }\n",
              "\n",
              "    .dataframe tbody tr th {\n",
              "        vertical-align: top;\n",
              "    }\n",
              "\n",
              "    .dataframe thead th {\n",
              "        text-align: right;\n",
              "    }\n",
              "</style>\n",
              "<table border=\"1\" class=\"dataframe\">\n",
              "  <thead>\n",
              "    <tr style=\"text-align: right;\">\n",
              "      <th></th>\n",
              "      <th>Model</th>\n",
              "      <th>TF-IDF (augmented)</th>\n",
              "      <th>Bigram (augmented)</th>\n",
              "      <th>Trigram (augmented)</th>\n",
              "      <th>Fasttext (augmented)</th>\n",
              "    </tr>\n",
              "  </thead>\n",
              "  <tbody>\n",
              "    <tr>\n",
              "      <th>0</th>\n",
              "      <td>KNN Classifier</td>\n",
              "      <td>52.578876</td>\n",
              "      <td>33.736668</td>\n",
              "      <td>33.406998</td>\n",
              "      <td>59.459656</td>\n",
              "    </tr>\n",
              "    <tr>\n",
              "      <th>1</th>\n",
              "      <td>SVC</td>\n",
              "      <td>45.488029</td>\n",
              "      <td>33.554328</td>\n",
              "      <td>33.332929</td>\n",
              "      <td>36.464088</td>\n",
              "    </tr>\n",
              "    <tr>\n",
              "      <th>2</th>\n",
              "      <td>Decision tree</td>\n",
              "      <td>45.030660</td>\n",
              "      <td>33.663611</td>\n",
              "      <td>33.369963</td>\n",
              "      <td>51.031915</td>\n",
              "    </tr>\n",
              "    <tr>\n",
              "      <th>3</th>\n",
              "      <td>Adaboost</td>\n",
              "      <td>68.393338</td>\n",
              "      <td>37.709510</td>\n",
              "      <td>33.848582</td>\n",
              "      <td>62.545484</td>\n",
              "    </tr>\n",
              "    <tr>\n",
              "      <th>4</th>\n",
              "      <td>Logistic regression</td>\n",
              "      <td>72.701921</td>\n",
              "      <td>40.947726</td>\n",
              "      <td>34.547791</td>\n",
              "      <td>56.327889</td>\n",
              "    </tr>\n",
              "    <tr>\n",
              "      <th>5</th>\n",
              "      <td>MLP</td>\n",
              "      <td>73.142898</td>\n",
              "      <td>43.411046</td>\n",
              "      <td>35.246393</td>\n",
              "      <td>69.210329</td>\n",
              "    </tr>\n",
              "    <tr>\n",
              "      <th>6</th>\n",
              "      <td>Random forest</td>\n",
              "      <td>59.962965</td>\n",
              "      <td>35.981017</td>\n",
              "      <td>33.517293</td>\n",
              "      <td>56.288021</td>\n",
              "    </tr>\n",
              "    <tr>\n",
              "      <th>7</th>\n",
              "      <td>Ensembled Model</td>\n",
              "      <td>73.584482</td>\n",
              "      <td>43.006496</td>\n",
              "      <td>35.136300</td>\n",
              "      <td>69.098213</td>\n",
              "    </tr>\n",
              "  </tbody>\n",
              "</table>\n",
              "</div>\n",
              "      <button class=\"colab-df-convert\" onclick=\"convertToInteractive('df-b1193ec0-49c4-4913-adfe-eb98e2ab31ec')\"\n",
              "              title=\"Convert this dataframe to an interactive table.\"\n",
              "              style=\"display:none;\">\n",
              "        \n",
              "  <svg xmlns=\"http://www.w3.org/2000/svg\" height=\"24px\"viewBox=\"0 0 24 24\"\n",
              "       width=\"24px\">\n",
              "    <path d=\"M0 0h24v24H0V0z\" fill=\"none\"/>\n",
              "    <path d=\"M18.56 5.44l.94 2.06.94-2.06 2.06-.94-2.06-.94-.94-2.06-.94 2.06-2.06.94zm-11 1L8.5 8.5l.94-2.06 2.06-.94-2.06-.94L8.5 2.5l-.94 2.06-2.06.94zm10 10l.94 2.06.94-2.06 2.06-.94-2.06-.94-.94-2.06-.94 2.06-2.06.94z\"/><path d=\"M17.41 7.96l-1.37-1.37c-.4-.4-.92-.59-1.43-.59-.52 0-1.04.2-1.43.59L10.3 9.45l-7.72 7.72c-.78.78-.78 2.05 0 2.83L4 21.41c.39.39.9.59 1.41.59.51 0 1.02-.2 1.41-.59l7.78-7.78 2.81-2.81c.8-.78.8-2.07 0-2.86zM5.41 20L4 18.59l7.72-7.72 1.47 1.35L5.41 20z\"/>\n",
              "  </svg>\n",
              "      </button>\n",
              "      \n",
              "  <style>\n",
              "    .colab-df-container {\n",
              "      display:flex;\n",
              "      flex-wrap:wrap;\n",
              "      gap: 12px;\n",
              "    }\n",
              "\n",
              "    .colab-df-convert {\n",
              "      background-color: #E8F0FE;\n",
              "      border: none;\n",
              "      border-radius: 50%;\n",
              "      cursor: pointer;\n",
              "      display: none;\n",
              "      fill: #1967D2;\n",
              "      height: 32px;\n",
              "      padding: 0 0 0 0;\n",
              "      width: 32px;\n",
              "    }\n",
              "\n",
              "    .colab-df-convert:hover {\n",
              "      background-color: #E2EBFA;\n",
              "      box-shadow: 0px 1px 2px rgba(60, 64, 67, 0.3), 0px 1px 3px 1px rgba(60, 64, 67, 0.15);\n",
              "      fill: #174EA6;\n",
              "    }\n",
              "\n",
              "    [theme=dark] .colab-df-convert {\n",
              "      background-color: #3B4455;\n",
              "      fill: #D2E3FC;\n",
              "    }\n",
              "\n",
              "    [theme=dark] .colab-df-convert:hover {\n",
              "      background-color: #434B5C;\n",
              "      box-shadow: 0px 1px 3px 1px rgba(0, 0, 0, 0.15);\n",
              "      filter: drop-shadow(0px 1px 2px rgba(0, 0, 0, 0.3));\n",
              "      fill: #FFFFFF;\n",
              "    }\n",
              "  </style>\n",
              "\n",
              "      <script>\n",
              "        const buttonEl =\n",
              "          document.querySelector('#df-b1193ec0-49c4-4913-adfe-eb98e2ab31ec button.colab-df-convert');\n",
              "        buttonEl.style.display =\n",
              "          google.colab.kernel.accessAllowed ? 'block' : 'none';\n",
              "\n",
              "        async function convertToInteractive(key) {\n",
              "          const element = document.querySelector('#df-b1193ec0-49c4-4913-adfe-eb98e2ab31ec');\n",
              "          const dataTable =\n",
              "            await google.colab.kernel.invokeFunction('convertToInteractive',\n",
              "                                                     [key], {});\n",
              "          if (!dataTable) return;\n",
              "\n",
              "          const docLinkHtml = 'Like what you see? Visit the ' +\n",
              "            '<a target=\"_blank\" href=https://colab.research.google.com/notebooks/data_table.ipynb>data table notebook</a>'\n",
              "            + ' to learn more about interactive tables.';\n",
              "          element.innerHTML = '';\n",
              "          dataTable['output_type'] = 'display_data';\n",
              "          await google.colab.output.renderOutput(dataTable, element);\n",
              "          const docLink = document.createElement('div');\n",
              "          docLink.innerHTML = docLinkHtml;\n",
              "          element.appendChild(docLink);\n",
              "        }\n",
              "      </script>\n",
              "    </div>\n",
              "  </div>\n",
              "  "
            ]
          },
          "metadata": {},
          "execution_count": 54
        }
      ],
      "source": [
        "acc_df"
      ]
    },
    {
      "cell_type": "code",
      "source": [
        "f1_df"
      ],
      "metadata": {
        "colab": {
          "base_uri": "https://localhost:8080/",
          "height": 300
        },
        "id": "MVvJyBoNFBG2",
        "outputId": "b344fdfd-91b7-4425-8360-164ee377f25e"
      },
      "execution_count": null,
      "outputs": [
        {
          "output_type": "execute_result",
          "data": {
            "text/plain": [
              "                 Model  TF-IDF (augmented)  Bigram (augmented)  \\\n",
              "0       KNN Classifier           44.284799           17.703417   \n",
              "1                  SVC           35.221266           17.193945   \n",
              "2        Decision tree           38.593125           17.439914   \n",
              "3             Adaboost           68.329569           25.413950   \n",
              "4  Logistic regression           71.527929           30.887450   \n",
              "5                  MLP           70.549359           34.661968   \n",
              "6        Random forest           59.716260           22.513899   \n",
              "7      Ensembled Model           71.204356           34.080356   \n",
              "\n",
              "   Trigram (augmented)  Fasttext (augmented)  \n",
              "0            16.822328             50.180796  \n",
              "1            16.759929             22.265815  \n",
              "2            16.808486             50.383374  \n",
              "3            17.811195             62.796251  \n",
              "4            19.283912             55.269276  \n",
              "5            20.651136             67.993483  \n",
              "6            17.080031             53.835791  \n",
              "7            20.440804             67.634213  "
            ],
            "text/html": [
              "\n",
              "  <div id=\"df-6af36f00-1891-4948-a79c-7272d8721a91\">\n",
              "    <div class=\"colab-df-container\">\n",
              "      <div>\n",
              "<style scoped>\n",
              "    .dataframe tbody tr th:only-of-type {\n",
              "        vertical-align: middle;\n",
              "    }\n",
              "\n",
              "    .dataframe tbody tr th {\n",
              "        vertical-align: top;\n",
              "    }\n",
              "\n",
              "    .dataframe thead th {\n",
              "        text-align: right;\n",
              "    }\n",
              "</style>\n",
              "<table border=\"1\" class=\"dataframe\">\n",
              "  <thead>\n",
              "    <tr style=\"text-align: right;\">\n",
              "      <th></th>\n",
              "      <th>Model</th>\n",
              "      <th>TF-IDF (augmented)</th>\n",
              "      <th>Bigram (augmented)</th>\n",
              "      <th>Trigram (augmented)</th>\n",
              "      <th>Fasttext (augmented)</th>\n",
              "    </tr>\n",
              "  </thead>\n",
              "  <tbody>\n",
              "    <tr>\n",
              "      <th>0</th>\n",
              "      <td>KNN Classifier</td>\n",
              "      <td>44.284799</td>\n",
              "      <td>17.703417</td>\n",
              "      <td>16.822328</td>\n",
              "      <td>50.180796</td>\n",
              "    </tr>\n",
              "    <tr>\n",
              "      <th>1</th>\n",
              "      <td>SVC</td>\n",
              "      <td>35.221266</td>\n",
              "      <td>17.193945</td>\n",
              "      <td>16.759929</td>\n",
              "      <td>22.265815</td>\n",
              "    </tr>\n",
              "    <tr>\n",
              "      <th>2</th>\n",
              "      <td>Decision tree</td>\n",
              "      <td>38.593125</td>\n",
              "      <td>17.439914</td>\n",
              "      <td>16.808486</td>\n",
              "      <td>50.383374</td>\n",
              "    </tr>\n",
              "    <tr>\n",
              "      <th>3</th>\n",
              "      <td>Adaboost</td>\n",
              "      <td>68.329569</td>\n",
              "      <td>25.413950</td>\n",
              "      <td>17.811195</td>\n",
              "      <td>62.796251</td>\n",
              "    </tr>\n",
              "    <tr>\n",
              "      <th>4</th>\n",
              "      <td>Logistic regression</td>\n",
              "      <td>71.527929</td>\n",
              "      <td>30.887450</td>\n",
              "      <td>19.283912</td>\n",
              "      <td>55.269276</td>\n",
              "    </tr>\n",
              "    <tr>\n",
              "      <th>5</th>\n",
              "      <td>MLP</td>\n",
              "      <td>70.549359</td>\n",
              "      <td>34.661968</td>\n",
              "      <td>20.651136</td>\n",
              "      <td>67.993483</td>\n",
              "    </tr>\n",
              "    <tr>\n",
              "      <th>6</th>\n",
              "      <td>Random forest</td>\n",
              "      <td>59.716260</td>\n",
              "      <td>22.513899</td>\n",
              "      <td>17.080031</td>\n",
              "      <td>53.835791</td>\n",
              "    </tr>\n",
              "    <tr>\n",
              "      <th>7</th>\n",
              "      <td>Ensembled Model</td>\n",
              "      <td>71.204356</td>\n",
              "      <td>34.080356</td>\n",
              "      <td>20.440804</td>\n",
              "      <td>67.634213</td>\n",
              "    </tr>\n",
              "  </tbody>\n",
              "</table>\n",
              "</div>\n",
              "      <button class=\"colab-df-convert\" onclick=\"convertToInteractive('df-6af36f00-1891-4948-a79c-7272d8721a91')\"\n",
              "              title=\"Convert this dataframe to an interactive table.\"\n",
              "              style=\"display:none;\">\n",
              "        \n",
              "  <svg xmlns=\"http://www.w3.org/2000/svg\" height=\"24px\"viewBox=\"0 0 24 24\"\n",
              "       width=\"24px\">\n",
              "    <path d=\"M0 0h24v24H0V0z\" fill=\"none\"/>\n",
              "    <path d=\"M18.56 5.44l.94 2.06.94-2.06 2.06-.94-2.06-.94-.94-2.06-.94 2.06-2.06.94zm-11 1L8.5 8.5l.94-2.06 2.06-.94-2.06-.94L8.5 2.5l-.94 2.06-2.06.94zm10 10l.94 2.06.94-2.06 2.06-.94-2.06-.94-.94-2.06-.94 2.06-2.06.94z\"/><path d=\"M17.41 7.96l-1.37-1.37c-.4-.4-.92-.59-1.43-.59-.52 0-1.04.2-1.43.59L10.3 9.45l-7.72 7.72c-.78.78-.78 2.05 0 2.83L4 21.41c.39.39.9.59 1.41.59.51 0 1.02-.2 1.41-.59l7.78-7.78 2.81-2.81c.8-.78.8-2.07 0-2.86zM5.41 20L4 18.59l7.72-7.72 1.47 1.35L5.41 20z\"/>\n",
              "  </svg>\n",
              "      </button>\n",
              "      \n",
              "  <style>\n",
              "    .colab-df-container {\n",
              "      display:flex;\n",
              "      flex-wrap:wrap;\n",
              "      gap: 12px;\n",
              "    }\n",
              "\n",
              "    .colab-df-convert {\n",
              "      background-color: #E8F0FE;\n",
              "      border: none;\n",
              "      border-radius: 50%;\n",
              "      cursor: pointer;\n",
              "      display: none;\n",
              "      fill: #1967D2;\n",
              "      height: 32px;\n",
              "      padding: 0 0 0 0;\n",
              "      width: 32px;\n",
              "    }\n",
              "\n",
              "    .colab-df-convert:hover {\n",
              "      background-color: #E2EBFA;\n",
              "      box-shadow: 0px 1px 2px rgba(60, 64, 67, 0.3), 0px 1px 3px 1px rgba(60, 64, 67, 0.15);\n",
              "      fill: #174EA6;\n",
              "    }\n",
              "\n",
              "    [theme=dark] .colab-df-convert {\n",
              "      background-color: #3B4455;\n",
              "      fill: #D2E3FC;\n",
              "    }\n",
              "\n",
              "    [theme=dark] .colab-df-convert:hover {\n",
              "      background-color: #434B5C;\n",
              "      box-shadow: 0px 1px 3px 1px rgba(0, 0, 0, 0.15);\n",
              "      filter: drop-shadow(0px 1px 2px rgba(0, 0, 0, 0.3));\n",
              "      fill: #FFFFFF;\n",
              "    }\n",
              "  </style>\n",
              "\n",
              "      <script>\n",
              "        const buttonEl =\n",
              "          document.querySelector('#df-6af36f00-1891-4948-a79c-7272d8721a91 button.colab-df-convert');\n",
              "        buttonEl.style.display =\n",
              "          google.colab.kernel.accessAllowed ? 'block' : 'none';\n",
              "\n",
              "        async function convertToInteractive(key) {\n",
              "          const element = document.querySelector('#df-6af36f00-1891-4948-a79c-7272d8721a91');\n",
              "          const dataTable =\n",
              "            await google.colab.kernel.invokeFunction('convertToInteractive',\n",
              "                                                     [key], {});\n",
              "          if (!dataTable) return;\n",
              "\n",
              "          const docLinkHtml = 'Like what you see? Visit the ' +\n",
              "            '<a target=\"_blank\" href=https://colab.research.google.com/notebooks/data_table.ipynb>data table notebook</a>'\n",
              "            + ' to learn more about interactive tables.';\n",
              "          element.innerHTML = '';\n",
              "          dataTable['output_type'] = 'display_data';\n",
              "          await google.colab.output.renderOutput(dataTable, element);\n",
              "          const docLink = document.createElement('div');\n",
              "          docLink.innerHTML = docLinkHtml;\n",
              "          element.appendChild(docLink);\n",
              "        }\n",
              "      </script>\n",
              "    </div>\n",
              "  </div>\n",
              "  "
            ]
          },
          "metadata": {},
          "execution_count": 55
        }
      ]
    },
    {
      "cell_type": "code",
      "source": [],
      "metadata": {
        "id": "OOnStsuqFDRh"
      },
      "execution_count": null,
      "outputs": []
    }
  ],
  "metadata": {
    "colab": {
      "provenance": [],
      "authorship_tag": "ABX9TyNvtPOuL0Ts03/SxrBUk/dm",
      "include_colab_link": true
    },
    "kernelspec": {
      "display_name": "Python 3",
      "name": "python3"
    },
    "language_info": {
      "name": "python"
    }
  },
  "nbformat": 4,
  "nbformat_minor": 0
}